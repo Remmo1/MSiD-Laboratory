{
 "cells": [
  {
   "cell_type": "markdown",
   "metadata": {},
   "source": [
    "# Obsługa danych i podstawy implementacji obliczeń\n",
    "\n",
    "Korzystając z materiałów dr Drapały pobieram dane z Wikipedii odnośnie najbardziej zaludnionych miast Europy. "
   ]
  },
  {
   "cell_type": "code",
   "execution_count": 25,
   "metadata": {},
   "outputs": [
    {
     "data": {
      "text/html": [
       "<div>\n",
       "<style scoped>\n",
       "    .dataframe tbody tr th:only-of-type {\n",
       "        vertical-align: middle;\n",
       "    }\n",
       "\n",
       "    .dataframe tbody tr th {\n",
       "        vertical-align: top;\n",
       "    }\n",
       "\n",
       "    .dataframe thead th {\n",
       "        text-align: right;\n",
       "    }\n",
       "</style>\n",
       "<table border=\"1\" class=\"dataframe\">\n",
       "  <thead>\n",
       "    <tr style=\"text-align: right;\">\n",
       "      <th></th>\n",
       "      <th>City</th>\n",
       "      <th>Country</th>\n",
       "      <th>Officialpopulation</th>\n",
       "    </tr>\n",
       "  </thead>\n",
       "  <tbody>\n",
       "    <tr>\n",
       "      <th>0</th>\n",
       "      <td>Istanbul</td>\n",
       "      <td>Turkey</td>\n",
       "      <td>12.63</td>\n",
       "    </tr>\n",
       "    <tr>\n",
       "      <th>1</th>\n",
       "      <td>Moscow</td>\n",
       "      <td>Russia</td>\n",
       "      <td>9.0</td>\n",
       "    </tr>\n",
       "    <tr>\n",
       "      <th>2</th>\n",
       "      <td>London</td>\n",
       "      <td>United Kingdom</td>\n",
       "      <td>5.38</td>\n",
       "    </tr>\n",
       "    <tr>\n",
       "      <th>3</th>\n",
       "      <td>Saint Petersburg</td>\n",
       "      <td>Russia</td>\n",
       "      <td>3.66</td>\n",
       "    </tr>\n",
       "    <tr>\n",
       "      <th>4</th>\n",
       "      <td>Berlin</td>\n",
       "      <td>Germany</td>\n",
       "      <td>3.31</td>\n",
       "    </tr>\n",
       "    <tr>\n",
       "      <th>5</th>\n",
       "      <td>Madrid</td>\n",
       "      <td>Spain</td>\n",
       "      <td>2.92</td>\n",
       "    </tr>\n",
       "    <tr>\n",
       "      <th>6</th>\n",
       "      <td>Kyiv</td>\n",
       "      <td>Ukraine</td>\n",
       "      <td>2.84</td>\n",
       "    </tr>\n",
       "    <tr>\n",
       "      <th>7</th>\n",
       "      <td>Rome</td>\n",
       "      <td>Italy</td>\n",
       "      <td>2.16</td>\n",
       "    </tr>\n",
       "    <tr>\n",
       "      <th>8</th>\n",
       "      <td>Bucharest</td>\n",
       "      <td>Romania</td>\n",
       "      <td>2.14</td>\n",
       "    </tr>\n",
       "    <tr>\n",
       "      <th>9</th>\n",
       "      <td>Paris</td>\n",
       "      <td>France</td>\n",
       "      <td>2.01</td>\n",
       "    </tr>\n",
       "  </tbody>\n",
       "</table>\n",
       "</div>"
      ],
      "text/plain": [
       "               City         Country Officialpopulation\n",
       "0          Istanbul          Turkey              12.63\n",
       "1            Moscow          Russia                9.0\n",
       "2            London  United Kingdom               5.38\n",
       "3  Saint Petersburg          Russia               3.66\n",
       "4            Berlin         Germany               3.31\n",
       "5            Madrid           Spain               2.92\n",
       "6              Kyiv         Ukraine               2.84\n",
       "7              Rome           Italy               2.16\n",
       "8         Bucharest         Romania               2.14\n",
       "9             Paris          France               2.01"
      ]
     },
     "execution_count": 25,
     "metadata": {},
     "output_type": "execute_result"
    }
   ],
   "source": [
    "import pandas as pd\n",
    "import requests\n",
    "from bs4 import BeautifulSoup\n",
    "\n",
    "URL = \"https://en.wikipedia.org/wiki/List_of_European_cities_by_population_within_city_limits\"\n",
    "resp = requests.get(URL) \n",
    "if resp.status_code == 200:\n",
    "    soup = BeautifulSoup(resp.content,'html.parser')\n",
    "    tab = soup.find('table',{'class':\"wikitable\"})\n",
    "df = pd.read_html(str(tab))[0]\n",
    "df =df.loc[:, 'City':'Officialpopulation':]\n",
    "df.replace(to_replace={'[[a]]':\"\",'[[b]]':\"\"}, regex=True,inplace=True)\n",
    "df.replace(to_replace='[[,]', value=\"\", regex=True,inplace=True)\n",
    "for i in range(len(df['Officialpopulation'])):\n",
    "    df['Officialpopulation'][i-1] = float(\"{:.2f}\".format(int(df['Officialpopulation'][i])/1000000))\n",
    "df = df[:10]\n",
    "df"
   ]
  },
  {
   "cell_type": "markdown",
   "metadata": {},
   "source": [
    "Po wczytaniu danych, konieczne było usunięcie wystąpień [a],[b] oraz przecinki oddzielające liczby za pomocą metody replace.\n",
    "Następnie przedstawiam dane na wykresie za pomocą poniższego kodu."
   ]
  },
  {
   "cell_type": "code",
   "execution_count": 26,
   "metadata": {},
   "outputs": [
    {
     "data": {
      "image/png": "[encoded data removed]",
      "text/plain": [
       "<Figure size 432x288 with 1 Axes>"
      ]
     },
     "metadata": {
      "needs_background": "light"
     },
     "output_type": "display_data"
    }
   ],
   "source": [
    "import matplotlib.pyplot as plt\n",
    "\n",
    "citiesPlot = df.plot(x='City', y='Officialpopulation', kind='scatter', title='Najludniejsze miasta w Europie')\n",
    "plt.xticks(rotation=90)\n",
    "citiesPlot.set_xlabel('Nazwa miasta')\n",
    "citiesPlot.set_ylabel('Ludność w mln')\n",
    "plt.show()"
   ]
  },
  {
   "cell_type": "markdown",
   "metadata": {},
   "source": [
    "Na zakończenie policzmy średnie zaludnienie w 10. najludniejszych miastach Europy:"
   ]
  },
  {
   "cell_type": "code",
   "execution_count": 35,
   "metadata": {},
   "outputs": [
    {
     "data": {
      "image/png": "[encoded data removed]",
      "text/plain": [
       "<Figure size 432x288 with 1 Axes>"
      ]
     },
     "metadata": {
      "needs_background": "light"
     },
     "output_type": "display_data"
    }
   ],
   "source": [
    "avr = df[\"Officialpopulation\"].mean()\n",
    "avrTab = []\n",
    "for i in range(10):\n",
    "    avrTab.append(avr)\n",
    "citiesPlot = df.plot(x='City', y='Officialpopulation', kind='scatter', title='Najludniejsze miasta w Europie')\n",
    "plt.xticks(rotation=90)\n",
    "citiesPlot.set_xlabel('Nazwa miasta')\n",
    "citiesPlot.set_ylabel('Ludność w mln')\n",
    "\n",
    "avrPlot = pd.DataFrame(avrTab, columns = ['Średnie zaludnienie: ' + str(avr)])\n",
    "avrPlot.plot(ax=citiesPlot,color='#FF0000')\n",
    "plt.xticks(citiesPlot.get_xticks(), rotation = 90)\n",
    "plt.show()"
   ]
  }
 ],
 "metadata": {
  "interpreter": {
   "hash": "4ae1c5548f5b2dbf589455d8fe6ca422e3bb98115f1f065dcfb143dab34d9cf9"
  },
  "kernelspec": {
   "display_name": "Python 3 (ipykernel)",
   "language": "python",
   "name": "python3"
  },
  "language_info": {
   "codemirror_mode": {
    "name": "ipython",
    "version": 3
   },
   "file_extension": ".py",
   "mimetype": "text/x-python",
   "name": "python",
   "nbconvert_exporter": "python",
   "pygments_lexer": "ipython3",
   "version": "3.10.4"
  }
 },
 "nbformat": 4,
 "nbformat_minor": 2
}
