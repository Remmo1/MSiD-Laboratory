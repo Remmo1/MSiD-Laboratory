{
 "cells": [
  {
   "cell_type": "markdown",
   "id": "bb266bc2",
   "metadata": {},
   "source": [
    "# 2 zajęcia: Obsługa danych i podstawy implementacji obliczeń\n",
    "\n",
    "Korzystając z przygotowanych do laboratorium plików wczytuję dane do ramki pandas. Dane pobieram z anglojęzycznej wikipedii. Plik zawiera statystyki rzek Białorusi. Podana jest nazwa i długość, w tym długość w kraju. Tabela z danymi jest przedstawiona poniżej."
   ]
  },
  {
   "cell_type": "code",
   "execution_count": 1,
   "id": "f1f96795",
   "metadata": {},
   "outputs": [
    {
     "data": {
      "text/html": [
       "<div>\n",
       "<style scoped>\n",
       "    .dataframe tbody tr th:only-of-type {\n",
       "        vertical-align: middle;\n",
       "    }\n",
       "\n",
       "    .dataframe tbody tr th {\n",
       "        vertical-align: top;\n",
       "    }\n",
       "\n",
       "    .dataframe thead th {\n",
       "        text-align: right;\n",
       "    }\n",
       "</style>\n",
       "<table border=\"1\" class=\"dataframe\">\n",
       "  <thead>\n",
       "    <tr style=\"text-align: right;\">\n",
       "      <th></th>\n",
       "      <th>Name</th>\n",
       "      <th>Total, km</th>\n",
       "      <th>In Belarus, km</th>\n",
       "    </tr>\n",
       "  </thead>\n",
       "  <tbody>\n",
       "    <tr>\n",
       "      <th>0</th>\n",
       "      <td>Dnieper River</td>\n",
       "      <td>2145</td>\n",
       "      <td>690</td>\n",
       "    </tr>\n",
       "    <tr>\n",
       "      <th>1</th>\n",
       "      <td>Western Dvina</td>\n",
       "      <td>1020</td>\n",
       "      <td>328</td>\n",
       "    </tr>\n",
       "    <tr>\n",
       "      <th>2</th>\n",
       "      <td>Neman River</td>\n",
       "      <td>937</td>\n",
       "      <td>459</td>\n",
       "    </tr>\n",
       "    <tr>\n",
       "      <th>3</th>\n",
       "      <td>Bug River</td>\n",
       "      <td>831</td>\n",
       "      <td>169</td>\n",
       "    </tr>\n",
       "    <tr>\n",
       "      <th>4</th>\n",
       "      <td>Pripyat River</td>\n",
       "      <td>761</td>\n",
       "      <td>495</td>\n",
       "    </tr>\n",
       "    <tr>\n",
       "      <th>5</th>\n",
       "      <td>Sozh River</td>\n",
       "      <td>648</td>\n",
       "      <td>493</td>\n",
       "    </tr>\n",
       "    <tr>\n",
       "      <th>6</th>\n",
       "      <td>Berezina River</td>\n",
       "      <td>613</td>\n",
       "      <td>613</td>\n",
       "    </tr>\n",
       "    <tr>\n",
       "      <th>7</th>\n",
       "      <td>Vilija</td>\n",
       "      <td>510</td>\n",
       "      <td>276</td>\n",
       "    </tr>\n",
       "    <tr>\n",
       "      <th>8</th>\n",
       "      <td>Ptsich</td>\n",
       "      <td>421</td>\n",
       "      <td>421</td>\n",
       "    </tr>\n",
       "    <tr>\n",
       "      <th>9</th>\n",
       "      <td>Shchara</td>\n",
       "      <td>325</td>\n",
       "      <td>325</td>\n",
       "    </tr>\n",
       "    <tr>\n",
       "      <th>10</th>\n",
       "      <td>Svislach</td>\n",
       "      <td>297</td>\n",
       "      <td>297</td>\n",
       "    </tr>\n",
       "  </tbody>\n",
       "</table>\n",
       "</div>"
      ],
      "text/plain": [
       "              Name  Total, km  In Belarus, km\n",
       "0    Dnieper River       2145             690\n",
       "1    Western Dvina       1020             328\n",
       "2      Neman River        937             459\n",
       "3        Bug River        831             169\n",
       "4    Pripyat River        761             495\n",
       "5       Sozh River        648             493\n",
       "6   Berezina River        613             613\n",
       "7           Vilija        510             276\n",
       "8           Ptsich        421             421\n",
       "9          Shchara        325             325\n",
       "10        Svislach        297             297"
      ]
     },
     "execution_count": 1,
     "metadata": {},
     "output_type": "execute_result"
    }
   ],
   "source": [
    "import pandas as pd\n",
    "import requests\n",
    "from bs4 import BeautifulSoup\n",
    "\n",
    "URL = \"https://en.wikipedia.org/wiki/List_of_rivers_of_Belarus\"\n",
    "resp = requests.get(URL) \n",
    "if resp.status_code == 200:\n",
    "    soup = BeautifulSoup(resp.content,'html.parser')\n",
    "    tab = soup.find('table',{'class':\"wikitable\"})\n",
    "df = pd.read_html(str(tab))[0]\n",
    "df"
   ]
  },
  {
   "cell_type": "markdown",
   "id": "be971b70",
   "metadata": {},
   "source": [
    "Teraz przedstawmy te dane na wykresie z pomocą następującego kodu. Ponadto dodajmy tytuł wykresu, nazwijmy odpowiednio osie oraz obróćmy nazwy żeby wszystkie się zmieściły i były czytelne. Oś x zawiera nazwy rzek, natomiast na osi y umieściłem stosunek długości rzeki w kraju do jej długości całkowitej. Dane są w procentach"
   ]
  },
  {
   "cell_type": "code",
   "execution_count": 7,
   "id": "08fad720",
   "metadata": {
    "scrolled": true
   },
   "outputs": [
    {
     "data": {
      "image/png": "[encoded data removed]",
      "text/plain": [
       "<Figure size 432x288 with 1 Axes>"
      ]
     },
     "metadata": {
      "needs_background": "light"
     },
     "output_type": "display_data"
    }
   ],
   "source": [
    "import matplotlib.pyplot as plt\n",
    "\n",
    "df['% w Białorusi'] = df['In Belarus, km'] / df['Total, km'] * 100\n",
    "\n",
    "riversPlot = df.plot(x='Name', y='% w Białorusi', kind='bar', title='Rzeki przepływające przez Białoruś')\n",
    "plt.xticks(rotation=90)\n",
    "riversPlot.set_xlabel('Nazwa rzeki')\n",
    "riversPlot.set_ylabel('Procent długości rzeki w kraju do całkowitej')\n",
    "plt.show()\n"
   ]
  },
  {
   "cell_type": "markdown",
   "id": "4a18e8df",
   "metadata": {},
   "source": [
    "Spróbujmy urozmaicić nasz wykres. Sprawdźmy które rzeki ponad w połowie przepływają przez kraj. W tym celu dodajmy na wykres czerwoną linię obrazującą 50%."
   ]
  },
  {
   "cell_type": "code",
   "execution_count": 23,
   "id": "80e791eb",
   "metadata": {},
   "outputs": [
    {
     "data": {
      "image/png": "[encoded data removed]",
      "text/plain": [
       "<Figure size 432x288 with 1 Axes>"
      ]
     },
     "metadata": {
      "needs_background": "light"
     },
     "output_type": "display_data"
    }
   ],
   "source": [
    "line50 = []\n",
    "dataSize = df['% w Białorusi'].size\n",
    "PERCENT50 = 50\n",
    "\n",
    "for i in range(0, dataSize):\n",
    "    line50.append(PERCENT50)\n",
    "    lineAvr.append(avr)\n",
    "\n",
    "ax = df.plot(x = \"Name\", y = \"% w Białorusi\", kind = \"bar\", title = \"Rzeki przepływające przez Białoruś\")\n",
    "ax.set_xlabel('Nazwa rzeki')\n",
    "ax.set_ylabel('Procent długości rzeki w kraju do całkowitej')\n",
    "\n",
    "bx = pd.DataFrame(line50, columns = ['50%'])\n",
    "bx.plot(ax=ax, color='#FF0000')\n",
    "plt.xticks(ax.get_xticks(), rotation = 90)\n",
    "plt.show()"
   ]
  },
  {
   "cell_type": "code",
   "execution_count": null,
   "id": "ffa1f9aa",
   "metadata": {},
   "outputs": [],
   "source": []
  }
 ],
 "metadata": {
  "kernelspec": {
   "display_name": "Python 3 (ipykernel)",
   "language": "python",
   "name": "python3"
  },
  "language_info": {
   "codemirror_mode": {
    "name": "ipython",
    "version": 3
   },
   "file_extension": ".py",
   "mimetype": "text/x-python",
   "name": "python",
   "nbconvert_exporter": "python",
   "pygments_lexer": "ipython3",
   "version": "3.10.4"
  }
 },
 "nbformat": 4,
 "nbformat_minor": 5
}
