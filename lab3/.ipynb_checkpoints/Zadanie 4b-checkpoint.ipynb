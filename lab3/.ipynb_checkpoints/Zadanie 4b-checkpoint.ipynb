{
 "cells": [
  {
   "cell_type": "markdown",
   "id": "820313ec",
   "metadata": {},
   "source": [
    "### 4 zajęcia \"dopasowanie rozkładu do danych\""
   ]
  },
  {
   "cell_type": "markdown",
   "id": "d8446aca",
   "metadata": {},
   "source": [
    "   Pierwszym krokiem jest ponownie pobranie danych z internetu. Cały czas pracujemy na rzekach."
   ]
  },
  {
   "cell_type": "code",
   "execution_count": 1,
   "id": "78c44876",
   "metadata": {},
   "outputs": [
    {
     "data": {
      "text/html": [
       "<div>\n",
       "<style scoped>\n",
       "    .dataframe tbody tr th:only-of-type {\n",
       "        vertical-align: middle;\n",
       "    }\n",
       "\n",
       "    .dataframe tbody tr th {\n",
       "        vertical-align: top;\n",
       "    }\n",
       "\n",
       "    .dataframe thead th {\n",
       "        text-align: right;\n",
       "    }\n",
       "</style>\n",
       "<table border=\"1\" class=\"dataframe\">\n",
       "  <thead>\n",
       "    <tr style=\"text-align: right;\">\n",
       "      <th></th>\n",
       "      <th>Name</th>\n",
       "      <th>Total, km</th>\n",
       "      <th>In Belarus, km</th>\n",
       "    </tr>\n",
       "  </thead>\n",
       "  <tbody>\n",
       "    <tr>\n",
       "      <th>0</th>\n",
       "      <td>Dnieper River</td>\n",
       "      <td>2145</td>\n",
       "      <td>690</td>\n",
       "    </tr>\n",
       "    <tr>\n",
       "      <th>1</th>\n",
       "      <td>Western Dvina</td>\n",
       "      <td>1020</td>\n",
       "      <td>328</td>\n",
       "    </tr>\n",
       "    <tr>\n",
       "      <th>2</th>\n",
       "      <td>Neman River</td>\n",
       "      <td>937</td>\n",
       "      <td>459</td>\n",
       "    </tr>\n",
       "    <tr>\n",
       "      <th>3</th>\n",
       "      <td>Bug River</td>\n",
       "      <td>831</td>\n",
       "      <td>169</td>\n",
       "    </tr>\n",
       "    <tr>\n",
       "      <th>4</th>\n",
       "      <td>Pripyat River</td>\n",
       "      <td>761</td>\n",
       "      <td>495</td>\n",
       "    </tr>\n",
       "    <tr>\n",
       "      <th>5</th>\n",
       "      <td>Sozh River</td>\n",
       "      <td>648</td>\n",
       "      <td>493</td>\n",
       "    </tr>\n",
       "    <tr>\n",
       "      <th>6</th>\n",
       "      <td>Berezina River</td>\n",
       "      <td>613</td>\n",
       "      <td>613</td>\n",
       "    </tr>\n",
       "    <tr>\n",
       "      <th>7</th>\n",
       "      <td>Vilija</td>\n",
       "      <td>510</td>\n",
       "      <td>276</td>\n",
       "    </tr>\n",
       "    <tr>\n",
       "      <th>8</th>\n",
       "      <td>Ptsich</td>\n",
       "      <td>421</td>\n",
       "      <td>421</td>\n",
       "    </tr>\n",
       "    <tr>\n",
       "      <th>9</th>\n",
       "      <td>Shchara</td>\n",
       "      <td>325</td>\n",
       "      <td>325</td>\n",
       "    </tr>\n",
       "    <tr>\n",
       "      <th>10</th>\n",
       "      <td>Svislach</td>\n",
       "      <td>297</td>\n",
       "      <td>297</td>\n",
       "    </tr>\n",
       "  </tbody>\n",
       "</table>\n",
       "</div>"
      ],
      "text/plain": [
       "              Name  Total, km  In Belarus, km\n",
       "0    Dnieper River       2145             690\n",
       "1    Western Dvina       1020             328\n",
       "2      Neman River        937             459\n",
       "3        Bug River        831             169\n",
       "4    Pripyat River        761             495\n",
       "5       Sozh River        648             493\n",
       "6   Berezina River        613             613\n",
       "7           Vilija        510             276\n",
       "8           Ptsich        421             421\n",
       "9          Shchara        325             325\n",
       "10        Svislach        297             297"
      ]
     },
     "execution_count": 1,
     "metadata": {},
     "output_type": "execute_result"
    }
   ],
   "source": [
    "import numpy as np\n",
    "import matplotlib.pyplot as plt\n",
    "import pandas as pd\n",
    "import requests\n",
    "from bs4 import BeautifulSoup\n",
    "\n",
    "URL = 'https://en.wikipedia.org/wiki/List_of_rivers_of_Belarus'\n",
    "resp = requests.get(URL)\n",
    "if resp.status_code == 200:\n",
    "    soup = BeautifulSoup(resp.content,'html.parser')\n",
    "    tab = soup.find('table',{'class':\"wikitable\"})\n",
    "    df = pd.read_html(str(tab))[0]\n",
    "df"
   ]
  },
  {
   "cell_type": "markdown",
   "id": "ed7d65d7",
   "metadata": {},
   "source": [
    "## Objaśnienie statysytczne\n",
    "\n",
    "   Zanim przejdziemy do testów na rozkład normalny wyjaśnijmy co tak naprawdę testujemy i liczymy. W tym zadaniu zajumjemy się dwoma testami normalności danych Shapiro-Wilka oraz D’Agostino-Pearsona. W obu mamy identyczne hipotezy.\n",
    "   \n",
    "\\begin{align}\n",
    "    H_{0}: Próba\\ pochodzi\\ z\\ populacji\\ o\\ rozkładzie\\ normalnym. \\\\\n",
    "    H_{1}: Próba\\ nie\\ pochodzi\\ z\\ populacji\\ o\\ rozkładzie\\ normalnym.\n",
    "\\end{align}\n",
    "\n",
    "   Dokumentacja języka Python mówi tylko tyle, że jeśli wynikowa p-wartość będzie mniejsza od 0,05 to odrzucamy hipotezę zerową i przyjmujemy alternatywną. Dlaczego mamy pewność że sprawdzając tylko jedną wartość jesteśmy pewni wyniku? Przejdźmy zatem do danych rzek i wybierzmy sobie dwie cechy, które mamy: długość w kraju oraz długość całkowitą. Oznaczmy odpowiednio przez X1, X2."
   ]
  },
  {
   "cell_type": "code",
   "execution_count": 4,
   "id": "f5938162",
   "metadata": {},
   "outputs": [
    {
     "name": "stdout",
     "output_type": "stream",
     "text": [
      "Długość w kraju:    [690 328 459 169 495 493 613 276 421 325 297]\n",
      "Długość całkowita:  [2145 1020  937  831  761  648  613  510  421  325  297]\n"
     ]
    }
   ],
   "source": [
    "X1 = df['In Belarus, km'].values\n",
    "X2 = df['Total, km'].values\n",
    "\n",
    "print('Długość w kraju:   ', X1)\n",
    "print('Długość całkowita: ', X2)\n"
   ]
  },
  {
   "cell_type": "markdown",
   "id": "fcf80d20",
   "metadata": {},
   "source": [
    "   Zaimportujmy potrzebne metody do testów, czyli .shapiro oraz .normaltest z modułu scipy.stats."
   ]
  },
  {
   "cell_type": "code",
   "execution_count": 5,
   "id": "817acc32",
   "metadata": {},
   "outputs": [],
   "source": [
    "from scipy import stats"
   ]
  },
  {
   "cell_type": "markdown",
   "id": "b70095ca",
   "metadata": {},
   "source": [
    "## Test Shapiro"
   ]
  },
  {
   "cell_type": "code",
   "execution_count": 7,
   "id": "0273d286",
   "metadata": {},
   "outputs": [
    {
     "name": "stdout",
     "output_type": "stream",
     "text": [
      "ShapiroResult(statistic=0.9710095524787903, pvalue=0.8965332508087158)\n",
      "ShapiroResult(statistic=0.7849349975585938, pvalue=0.005961146671324968)\n"
     ]
    }
   ],
   "source": [
    "print(stats.shapiro(X1))\n",
    "print(stats.shapiro(X2))"
   ]
  },
  {
   "cell_type": "markdown",
   "id": "c1f17139",
   "metadata": {},
   "source": [
    "   Jak widzimy wynikiem są dwie wartości. Pierwsza z nich to wartość statystyki wyliczana z następującego wzoru:\n",
    "   \n",
    "<img src=\"https://latex.codecogs.com/svg.image?W&space;=&space;[\\sum_{i}^{}a_{i}(n)]^2\" title=\"https://latex.codecogs.com/svg.image?W = [\\sum_{i}^{}a_{i}(n)]^2\" />\n",
    "\n",
    "\n"
   ]
  },
  {
   "cell_type": "code",
   "execution_count": 14,
   "id": "6cd15775",
   "metadata": {},
   "outputs": [
    {
     "name": "stdout",
     "output_type": "stream",
     "text": [
      "NormaltestResult(statistic=0.24357415555592887, pvalue=0.8853368563259909)\n",
      "NormaltestResult(statistic=15.942408212758057, pvalue=0.00034526300211671366)\n",
      "NormaltestResult(statistic=3.16095973313369, pvalue=0.20587628135300026)\n",
      "NormaltestResult(statistic=6.699800103040207, pvalue=0.03508786090395246)\n"
     ]
    }
   ],
   "source": [
    "print(stats.normaltest(X1))\n",
    "print(stats.normaltest(X2))"
   ]
  },
  {
   "cell_type": "code",
   "execution_count": null,
   "id": "70fda52e",
   "metadata": {},
   "outputs": [],
   "source": []
  }
 ],
 "metadata": {
  "kernelspec": {
   "display_name": "Python 3 (ipykernel)",
   "language": "python",
   "name": "python3"
  },
  "language_info": {
   "codemirror_mode": {
    "name": "ipython",
    "version": 3
   },
   "file_extension": ".py",
   "mimetype": "text/x-python",
   "name": "python",
   "nbconvert_exporter": "python",
   "pygments_lexer": "ipython3",
   "version": "3.10.4"
  }
 },
 "nbformat": 4,
 "nbformat_minor": 5
}
