{
 "cells": [
  {
   "cell_type": "markdown",
   "id": "820313ec",
   "metadata": {},
   "source": [
    "## 4 zajęcia: Dopasowanie rozkładu do danych"
   ]
  },
  {
   "cell_type": "markdown",
   "id": "d8446aca",
   "metadata": {},
   "source": [
    "   Pierwszym krokiem jest ponowne pobranie danych z internetu. Cały czas pracujemy na rzekach."
   ]
  },
  {
   "cell_type": "code",
   "execution_count": 1,
   "id": "78c44876",
   "metadata": {},
   "outputs": [
    {
     "data": {
      "text/html": [
       "<div>\n",
       "<style scoped>\n",
       "    .dataframe tbody tr th:only-of-type {\n",
       "        vertical-align: middle;\n",
       "    }\n",
       "\n",
       "    .dataframe tbody tr th {\n",
       "        vertical-align: top;\n",
       "    }\n",
       "\n",
       "    .dataframe thead th {\n",
       "        text-align: right;\n",
       "    }\n",
       "</style>\n",
       "<table border=\"1\" class=\"dataframe\">\n",
       "  <thead>\n",
       "    <tr style=\"text-align: right;\">\n",
       "      <th></th>\n",
       "      <th>Name</th>\n",
       "      <th>Total, km</th>\n",
       "      <th>In Belarus, km</th>\n",
       "    </tr>\n",
       "  </thead>\n",
       "  <tbody>\n",
       "    <tr>\n",
       "      <th>0</th>\n",
       "      <td>Dnieper River</td>\n",
       "      <td>2145</td>\n",
       "      <td>690</td>\n",
       "    </tr>\n",
       "    <tr>\n",
       "      <th>1</th>\n",
       "      <td>Western Dvina</td>\n",
       "      <td>1020</td>\n",
       "      <td>328</td>\n",
       "    </tr>\n",
       "    <tr>\n",
       "      <th>2</th>\n",
       "      <td>Neman River</td>\n",
       "      <td>937</td>\n",
       "      <td>459</td>\n",
       "    </tr>\n",
       "    <tr>\n",
       "      <th>3</th>\n",
       "      <td>Bug River</td>\n",
       "      <td>831</td>\n",
       "      <td>169</td>\n",
       "    </tr>\n",
       "    <tr>\n",
       "      <th>4</th>\n",
       "      <td>Pripyat River</td>\n",
       "      <td>761</td>\n",
       "      <td>495</td>\n",
       "    </tr>\n",
       "    <tr>\n",
       "      <th>5</th>\n",
       "      <td>Sozh River</td>\n",
       "      <td>648</td>\n",
       "      <td>493</td>\n",
       "    </tr>\n",
       "    <tr>\n",
       "      <th>6</th>\n",
       "      <td>Berezina River</td>\n",
       "      <td>613</td>\n",
       "      <td>613</td>\n",
       "    </tr>\n",
       "    <tr>\n",
       "      <th>7</th>\n",
       "      <td>Vilija</td>\n",
       "      <td>510</td>\n",
       "      <td>276</td>\n",
       "    </tr>\n",
       "    <tr>\n",
       "      <th>8</th>\n",
       "      <td>Ptsich</td>\n",
       "      <td>421</td>\n",
       "      <td>421</td>\n",
       "    </tr>\n",
       "    <tr>\n",
       "      <th>9</th>\n",
       "      <td>Shchara</td>\n",
       "      <td>325</td>\n",
       "      <td>325</td>\n",
       "    </tr>\n",
       "    <tr>\n",
       "      <th>10</th>\n",
       "      <td>Svislach</td>\n",
       "      <td>297</td>\n",
       "      <td>297</td>\n",
       "    </tr>\n",
       "  </tbody>\n",
       "</table>\n",
       "</div>"
      ],
      "text/plain": [
       "              Name  Total, km  In Belarus, km\n",
       "0    Dnieper River       2145             690\n",
       "1    Western Dvina       1020             328\n",
       "2      Neman River        937             459\n",
       "3        Bug River        831             169\n",
       "4    Pripyat River        761             495\n",
       "5       Sozh River        648             493\n",
       "6   Berezina River        613             613\n",
       "7           Vilija        510             276\n",
       "8           Ptsich        421             421\n",
       "9          Shchara        325             325\n",
       "10        Svislach        297             297"
      ]
     },
     "execution_count": 1,
     "metadata": {},
     "output_type": "execute_result"
    }
   ],
   "source": [
    "import numpy as np\n",
    "import matplotlib.pyplot as plt\n",
    "import pandas as pd\n",
    "import requests\n",
    "from bs4 import BeautifulSoup\n",
    "\n",
    "URL = 'https://en.wikipedia.org/wiki/List_of_rivers_of_Belarus'\n",
    "resp = requests.get(URL)\n",
    "if resp.status_code == 200:\n",
    "    soup = BeautifulSoup(resp.content,'html.parser')\n",
    "    tab = soup.find('table',{'class':\"wikitable\"})\n",
    "    df = pd.read_html(str(tab))[0]\n",
    "    \n",
    "names = df['Name']\n",
    "df"
   ]
  },
  {
   "cell_type": "markdown",
   "id": "ed7d65d7",
   "metadata": {},
   "source": [
    "## Objaśnienie statysytczne\n",
    "\n",
    "   Zanim przejdziemy do testów na rozkład normalny wyjaśnijmy co tak naprawdę testujemy i liczymy. W tym zadaniu zajumjemy się dwoma testami normalności danych Shapiro-Wilka oraz D’Agostino-Pearsona. W obu mamy identyczne hipotezy.\n",
    "   \n",
    "$$\n",
    "{\n",
    "    H_{0}: Próba\\ pochodzi\\ z\\ populacji\\ o\\ rozkładzie\\ normalnym. \\\\\n",
    "    H_{1}: Próba\\ nie\\ pochodzi\\ z\\ populacji\\ o\\ rozkładzie\\ normalnym.\n",
    "}\n",
    "$$\n",
    "\n",
    "   Dokumentacja języka Python mówi tylko tyle, że jeśli wynikowa p-wartość będzie mniejsza od 0,05 to odrzucamy hipotezę zerową i przyjmujemy alternatywną. Dlaczego mamy pewność że sprawdzając tylko jedną wartość jesteśmy pewni wyniku? Przejdźmy zatem do danych rzek i wybierzmy sobie dwie cechy, które mamy: \"Długość w kraju\" oraz \"Długość całkowitą\". Oznaczmy odpowiednio przez X1, X2."
   ]
  },
  {
   "cell_type": "code",
   "execution_count": 2,
   "id": "f5938162",
   "metadata": {},
   "outputs": [
    {
     "name": "stdout",
     "output_type": "stream",
     "text": [
      "Długość w kraju:    [690 328 459 169 495 493 613 276 421 325 297]\n",
      "Długość całkowita:  [2145 1020  937  831  761  648  613  510  421  325  297]\n"
     ]
    }
   ],
   "source": [
    "X1 = df['In Belarus, km'].values\n",
    "X2 = df['Total, km'].values\n",
    "\n",
    "print('Długość w kraju:   ', X1)\n",
    "print('Długość całkowita: ', X2)\n"
   ]
  },
  {
   "cell_type": "markdown",
   "id": "fcf80d20",
   "metadata": {},
   "source": [
    "   Zaimportujmy potrzebne metody do testów, czyli .shapiro oraz .normaltest z modułu scipy.stats."
   ]
  },
  {
   "cell_type": "code",
   "execution_count": 3,
   "id": "817acc32",
   "metadata": {},
   "outputs": [],
   "source": [
    "from scipy import stats"
   ]
  },
  {
   "cell_type": "markdown",
   "id": "b70095ca",
   "metadata": {},
   "source": [
    "## Test Shapiro"
   ]
  },
  {
   "cell_type": "code",
   "execution_count": 5,
   "id": "0273d286",
   "metadata": {},
   "outputs": [
    {
     "name": "stdout",
     "output_type": "stream",
     "text": [
      "Wyniki testu Shapiro dla: \n",
      "Długość w kraju:    0.971 - statystyka, 0.897 - p-wartość\n",
      "Długość całkowita:  0.785 - statystyka, 0.006 - p-wartość\n"
     ]
    }
   ],
   "source": [
    "print('Wyniki testu Shapiro dla: ')\n",
    "print('Długość w kraju:    %s - statystyka, %s - p-wartość' % (round(stats.shapiro(X1)[0],3), round(stats.shapiro(X1)[1], 3)))\n",
    "print('Długość całkowita:  %s - statystyka, %s - p-wartość' % (round(stats.shapiro(X2)[0],3), round(stats.shapiro(X2)[1], 3)))"
   ]
  },
  {
   "cell_type": "markdown",
   "id": "c1f17139",
   "metadata": {},
   "source": [
    " Jak widzimy wynikiem są dwie wartości. Pierwsza z nich to wartość statystyki wyliczana z następującego wzoru:\n",
    "   \n",
    "<img src=\"https://latex.codecogs.com/svg.image?W&space;=&space;\\frac{[\\sum_{i}^{}a_{i}(n)(X_{n-i&plus;1}&space;-&space;X_i)&space;]^2}{\\sum_{j=1}^n(X_j&space;-&space;\\overline{X})^2}&space;\" title=\"https://latex.codecogs.com/svg.image?W = \\frac{[\\sum_{i}^{}a_{i}(n)(X_{n-i+1} - X_i) ]^2}{\\sum_{j=1}^n(X_j - \\overline{X})^2} \" />\n",
    "\n",
    "gdzie:\n",
    "\n",
    "$$\n",
    "{\n",
    "W - wynik\\ testu\\\\\n",
    "a(n) - stała\\ odczytywana\\ z\\ \\href{https://www.naukowiec.org/tablice/statystyka/wartosci--a_338.html}{tablicy}\\\\\n",
    "X_{n-i+1} - X_i - różnica\\ pomiędzy\\ skrajnymi\\ obserwacjami\\\\\n",
    "j - kolejne\\ obserwacje\\ w\\ próbie\\\\\n",
    "i - kolejne\\ różnice\\ między\\ skrajnymi\\ obserwacjami\\\\\n",
    "}\n",
    "$$\n",
    "\n",
    "   Po wyliczeniu statystki możemy spojrzeć do $$\\href{https://www.naukowiec.org/tablice/statystyka/rozklad-w-test-shapiro-wilka-_335.html}{tabeli\\ rozkładu\\ dla\\ testu\\ Shapiro-Wilka}$$ i poszukać czy nasza wyliczona wartość jest większa czy mniejsza od tej z tablicy."
   ]
  },
  {
   "cell_type": "markdown",
   "id": "195b0598",
   "metadata": {},
   "source": [
    "Python robi to wszystko za nas i podaje nam wynik na tacy jako p-wartość. Jeśli jest ona większa od 0,05 to nie mamy podstaw do odrzucenia hipotezy zerowej. Tak jest w przypadku cechy \"Długość w kraju\". Natomiast hipotezę zerową odrzucamy dla cechy \"Długość całkowita\".\n",
    "   Innymi słowy dane dla długości w kraju mają rozkład normalny, a dla długości całkowitej nie."
   ]
  },
  {
   "cell_type": "markdown",
   "id": "6ead5de9",
   "metadata": {},
   "source": [
    "## Test D’Agostino-Pearsona"
   ]
  },
  {
   "cell_type": "markdown",
   "id": "f94b5998",
   "metadata": {},
   "source": [
    "    Nie powinno stosować się tego testu dla zbiorów danych mniejszych niż 20.\n",
    "W tym przypadku nie ma to znaczenia ponieważ wyniki wyglądają bardzo podobnie jak wyżej, cały schemat tego testu jest analogiczny, stosowane są jedynie inne wzory. Możemy wyciągnąć dla tego testu identyczne wnioski.\n",
    "    \"Długość w kraju\" ma rozkład normalny\n",
    "    \"Długość całkowita\" nie ma rozkładu normalnego."
   ]
  },
  {
   "cell_type": "code",
   "execution_count": 7,
   "id": "6cd15775",
   "metadata": {},
   "outputs": [
    {
     "name": "stdout",
     "output_type": "stream",
     "text": [
      "Wyniki testu D’Agostino-Pearsona dla: \n",
      "Długość w kraju:    0.244 - statystyka, 0.885 - p-wartość\n",
      "Długość całkowita:  15.942 - statystyka, 0.0003 - p-wartość\n"
     ]
    }
   ],
   "source": [
    "print('Wyniki testu D’Agostino-Pearsona dla: ')\n",
    "print('Długość w kraju:    %s - statystyka, %s - p-wartość' % (round(stats.normaltest(X1)[0],3), round(stats.normaltest(X1)[1], 3)))\n",
    "print('Długość całkowita:  %s - statystyka, %s - p-wartość' % (round(stats.normaltest(X2)[0],3), round(stats.normaltest(X2)[1], 4)))"
   ]
  },
  {
   "cell_type": "markdown",
   "id": "dcb3babb",
   "metadata": {},
   "source": [
    "## a) Estymacja parametrów rozkładu normalnego"
   ]
  },
  {
   "cell_type": "markdown",
   "id": "27fd6466",
   "metadata": {},
   "source": [
    "Możemy to zrobić dla cechy \"Długość w kraju\", ponieważ te dane posiadają rozkład normalny. Wzory na znalezienie parametrów uzyskujemy metodą największej wiarogodności. Żeby ładnie zaprezentować te dane na wykresie trzeba będzie je jakoś ustandaryzować tzn. podzielić przez jakąś liczbę żeby było widać efekty na wykresie rozkładu normalnego.\n",
    "\n",
    "$$\\widehat{\\mu} = \\frac{1}{N}\\sum_{i=1}^Nx_i,$$\n",
    "$$\\widehat{\\sigma}^2 = \\frac{1}{N}\\sum_{i=1}^N(x_i-\\mu)^2,$$"
   ]
  },
  {
   "cell_type": "code",
   "execution_count": 13,
   "id": "8ce52ddd",
   "metadata": {},
   "outputs": [
    {
     "name": "stdout",
     "output_type": "stream",
     "text": [
      "Średnia arytmetyczna: 415.09\n",
      "Wariancja:            23871\n"
     ]
    },
    {
     "data": {
      "image/png": "[encoded data removed]",
      "text/plain": [
       "<Figure size 432x288 with 1 Axes>"
      ]
     },
     "metadata": {
      "needs_background": "light"
     },
     "output_type": "display_data"
    }
   ],
   "source": [
    "import statistics\n",
    "from scipy.stats import norm\n",
    "\n",
    "print('Średnia arytmetyczna: %s' % round(X1.mean(),2))\n",
    "print('Wariancja:            %s' % statistics.variance(X1))\n",
    "\n",
    "STANDARD = 1700\n",
    "\n",
    "result = plt.scatter(names, X1/STANDARD)\n",
    "plt.xticks(rotation=90)\n",
    "plt.ylabel('Ustandardyzowana długość rzek')\n",
    "\n",
    "\n",
    "z = np.arange(0, 11, 0.001)\n",
    "\n",
    "plt.plot(z, norm.pdf(z, 5, 1))\n",
    "\n",
    "plt.show()"
   ]
  },
  {
   "cell_type": "markdown",
   "id": "0415cff3",
   "metadata": {},
   "source": [
    "## b) Wizualizacja danych i ich modelu w postaci estymatora Parzena dla 3 wybranych szerokości okna h."
   ]
  },
  {
   "cell_type": "markdown",
   "id": "e7792cb5",
   "metadata": {},
   "source": [
    "Druga cecha czyli \"Długość całkowita\" nie ma rozkładu normalnego, dlatego posłużymy się estymatorem Parzena dla trzech różnych wartości okna h."
   ]
  },
  {
   "cell_type": "code",
   "execution_count": 14,
   "id": "b03570e7",
   "metadata": {},
   "outputs": [
    {
     "data": {
      "image/png": "[encoded data removed]",
      "text/plain": [
       "<Figure size 720x288 with 1 Axes>"
      ]
     },
     "metadata": {
      "needs_background": "light"
     },
     "output_type": "display_data"
    }
   ],
   "source": [
    "def K(x):\n",
    "  return np.exp(-x**2/2)/np.sqrt(2*np.pi)\n",
    "\n",
    "os_x = np.linspace(X2.min()-1, X2.max()+1, num=1000)\n",
    "\n",
    "H = [0.3, 0.1, 0.9]\n",
    "N = X2.size\n",
    "\n",
    "plt.figure(figsize=(10,4))\n",
    "for h in H:\n",
    "  suma = 0\n",
    "  for nr, pomiar in enumerate(X2):\n",
    "    suma += K((os_x-pomiar)/h)\n",
    "    plt.annotate(r'$x_{}$'.format(nr+1), xy=[X2[nr],0.05], horizontalalignment='center', fontsize=12)\n",
    "  os_y = suma/(h*N)\n",
    "  plt.plot(os_x, os_y, label=f'h = {h}')\n",
    "  \n",
    "\n",
    "plt.plot(X2, np.zeros_like(X2) , 's', markersize=5, color='black', label='dane')\n",
    "plt.xlabel('$x$', fontsize=14)\n",
    "plt.ylabel('$f$', fontsize=14, rotation='horizontal', labelpad=15)\n",
    "plt.legend(fontsize=12, shadow=True)\n",
    "plt.show()"
   ]
  },
  {
   "cell_type": "code",
   "execution_count": null,
   "id": "e2164f71",
   "metadata": {},
   "outputs": [],
   "source": []
  }
 ],
 "metadata": {
  "kernelspec": {
   "display_name": "Python 3 (ipykernel)",
   "language": "python",
   "name": "python3"
  },
  "language_info": {
   "codemirror_mode": {
    "name": "ipython",
    "version": 3
   },
   "file_extension": ".py",
   "mimetype": "text/x-python",
   "name": "python",
   "nbconvert_exporter": "python",
   "pygments_lexer": "ipython3",
   "version": "3.10.4"
  }
 },
 "nbformat": 4,
 "nbformat_minor": 5
}
