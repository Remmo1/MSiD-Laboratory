{
 "cells": [
  {
   "cell_type": "code",
   "execution_count": 1,
   "id": "e7c1d02c",
   "metadata": {},
   "outputs": [],
   "source": [
    "import numpy as np\n",
    "import matplotlib.pyplot as plt\n",
    "import pandas as pd"
   ]
  },
  {
   "cell_type": "code",
   "execution_count": 2,
   "id": "3454ae9f",
   "metadata": {},
   "outputs": [
    {
     "name": "stdout",
     "output_type": "stream",
     "text": [
      "Plik pomiary2020.xlsx już jest na dysku\n"
     ]
    },
    {
     "data": {
      "text/html": [
       "<div>\n",
       "<style scoped>\n",
       "    .dataframe tbody tr th:only-of-type {\n",
       "        vertical-align: middle;\n",
       "    }\n",
       "\n",
       "    .dataframe tbody tr th {\n",
       "        vertical-align: top;\n",
       "    }\n",
       "\n",
       "    .dataframe thead th {\n",
       "        text-align: right;\n",
       "    }\n",
       "</style>\n",
       "<table border=\"1\" class=\"dataframe\">\n",
       "  <thead>\n",
       "    <tr style=\"text-align: right;\">\n",
       "      <th></th>\n",
       "      <th>waga</th>\n",
       "      <th>wzrost</th>\n",
       "      <th>płeć</th>\n",
       "      <th>puls przed</th>\n",
       "      <th>puls po</th>\n",
       "      <th>czas</th>\n",
       "    </tr>\n",
       "  </thead>\n",
       "  <tbody>\n",
       "    <tr>\n",
       "      <th>22</th>\n",
       "      <td>60.0</td>\n",
       "      <td>184</td>\n",
       "      <td>M</td>\n",
       "      <td>86</td>\n",
       "      <td>83</td>\n",
       "      <td>124</td>\n",
       "    </tr>\n",
       "    <tr>\n",
       "      <th>41</th>\n",
       "      <td>68.0</td>\n",
       "      <td>178</td>\n",
       "      <td>M</td>\n",
       "      <td>70</td>\n",
       "      <td>81</td>\n",
       "      <td>90</td>\n",
       "    </tr>\n",
       "    <tr>\n",
       "      <th>24</th>\n",
       "      <td>73.0</td>\n",
       "      <td>178</td>\n",
       "      <td>M</td>\n",
       "      <td>98</td>\n",
       "      <td>118</td>\n",
       "      <td>190</td>\n",
       "    </tr>\n",
       "    <tr>\n",
       "      <th>36</th>\n",
       "      <td>75.0</td>\n",
       "      <td>180</td>\n",
       "      <td>K</td>\n",
       "      <td>84</td>\n",
       "      <td>95</td>\n",
       "      <td>85</td>\n",
       "    </tr>\n",
       "  </tbody>\n",
       "</table>\n",
       "</div>"
      ],
      "text/plain": [
       "    waga  wzrost płeć  puls przed  puls po  czas\n",
       "22  60.0     184    M          86       83   124\n",
       "41  68.0     178    M          70       81    90\n",
       "24  73.0     178    M          98      118   190\n",
       "36  75.0     180    K          84       95    85"
      ]
     },
     "execution_count": 2,
     "metadata": {},
     "output_type": "execute_result"
    }
   ],
   "source": [
    "import urllib.request\n",
    "import os\n",
    "\n",
    "plik = 'pomiary2020.xlsx'\n",
    "URL = \"https://byes.pl/wp-content/uploads/datasets/\" + plik\n",
    "if not os.path.isfile(plik):\n",
    "    print('Pobieram plik z ', URL)\n",
    "    urllib.request.urlretrieve(URL, plik)\n",
    "    print('Pobrano plik')\n",
    "else:\n",
    "    print(f'Plik {plik} już jest na dysku')\n",
    "\n",
    "dane = pd.read_excel(plik) \n",
    "dane.sample(4)"
   ]
  },
  {
   "cell_type": "code",
   "execution_count": 3,
   "id": "dd63773c",
   "metadata": {},
   "outputs": [
    {
     "name": "stdout",
     "output_type": "stream",
     "text": [
      "Wszystkich: 46\n",
      "Kobiet: 9\n",
      "Mężczyzn: 37\n"
     ]
    }
   ],
   "source": [
    "cecha = 'wzrost'\n",
    "X = dane[cecha].values\n",
    "X_mezcz = X[dane['płeć']=='M']\n",
    "X_kob = X[dane['płeć']=='K']\n",
    "print(f\"Wszystkich: {X.size}\\nKobiet: {X_kob.size}\\nMężczyzn: {X_mezcz.size}\")"
   ]
  },
  {
   "cell_type": "code",
   "execution_count": 4,
   "id": "085e29ea",
   "metadata": {},
   "outputs": [],
   "source": [
    "def rozklad_norm(parametry, x):\n",
    "    mu, sigma = parametry\n",
    "    return np.exp(-(x-mu)**2/(2*sigma**2))/(sigma*np.sqrt(2*np.pi))"
   ]
  },
  {
   "cell_type": "code",
   "execution_count": 5,
   "id": "2da4c446",
   "metadata": {},
   "outputs": [],
   "source": [
    "mu_wszyscy, sigma_wszyscy = X.mean(), X.std()\n",
    "mu_mezcz, sigma_mezcz = X_mezcz.mean(), X_mezcz.std()\n",
    "mu_kob, sigma_kob = X_kob.mean(), X_kob.std()"
   ]
  },
  {
   "cell_type": "code",
   "execution_count": 6,
   "id": "7cc2b63e",
   "metadata": {},
   "outputs": [
    {
     "data": {
      "image/png": "[encoded data removed]",
      "text/plain": [
       "<Figure size 648x288 with 1 Axes>"
      ]
     },
     "metadata": {},
     "output_type": "display_data"
    }
   ],
   "source": [
    "os_x = np.linspace(X.min()-10, X.max()+10, num=300)\n",
    "\n",
    "os_y_wszyscy = rozklad_norm([mu_wszyscy, sigma_wszyscy], os_x)\n",
    "os_y_mezcz = rozklad_norm([mu_mezcz, sigma_mezcz], os_x)\n",
    "os_y_kob = rozklad_norm([mu_kob, sigma_kob], os_x)\n",
    "\n",
    "with plt.style.context('seaborn'):  \n",
    "    plt.figure(figsize=(9,4))\n",
    "    plt.plot(X, np.zeros_like(X), 'o', \n",
    "             markersize=10, alpha=0.5, markerfacecolor='tab:green', markeredgecolor='tab:green', \n",
    "             label='wszyscy')\n",
    "    plt.plot(os_x, 25*os_y_wszyscy, color='tab:green')\n",
    "    plt.plot(X_mezcz, np.ones_like(X_mezcz), 'P', \n",
    "             markersize=10, alpha=0.5, markerfacecolor='tab:blue', markeredgecolor='tab:blue', \n",
    "             label='mężczyźni')\n",
    "    plt.plot(os_x, 25*os_y_mezcz+1, color='tab:blue')\n",
    "    plt.plot(X_kob, 2*np.ones_like(X_kob), 'v', \n",
    "             markersize=10, alpha=0.5, markerfacecolor='tab:orange', markeredgecolor='tab:orange', \n",
    "             label='kobiety')\n",
    "    plt.plot(os_x, 25*os_y_kob+2, color='tab:orange')\n",
    "    plt.xlabel(cecha, fontsize=16)\n",
    "    plt.yticks([])\n",
    "plt.legend(shadow=True, fontsize=12)\n",
    "plt.show()"
   ]
  },
  {
   "cell_type": "code",
   "execution_count": 8,
   "id": "fb6d8c1e",
   "metadata": {},
   "outputs": [
    {
     "name": "stdout",
     "output_type": "stream",
     "text": [
      "Cały zbiór | test Shapiro: ShapiroResult(statistic=0.9832735657691956, pvalue=0.7415264844894409)\n",
      "Cały zbiór | test D’Agostino i Pearsona: NormaltestResult(statistic=1.3865097636945565, pvalue=0.4999461522561214)\n",
      "\n",
      "Podzbiór kobiety | test Shapiro: ShapiroResult(statistic=0.9801318645477295, pvalue=0.9649487733840942)\n",
      "Podzbiór kobiety | test D’Agostino i Pearsona: NormaltestResult(statistic=0.5004986330562435, pvalue=0.7786066393666938)\n",
      "\n",
      "Podzbiór mężczyźni | test Shapiro: ShapiroResult(statistic=0.977599561214447, pvalue=0.6480407118797302)\n",
      "Podzbiór mężczyźni | test D’Agostino i Pearsona: NormaltestResult(statistic=1.8750725444468217, pvalue=0.39159142252762885)\n",
      "\n"
     ]
    }
   ],
   "source": [
    "from scipy import stats\n",
    "\n",
    "print(f'Cały zbiór | test Shapiro: {stats.shapiro(X)}')\n",
    "print(f'Cały zbiór | test D’Agostino i Pearsona: {stats.normaltest(X)}\\n')\n",
    "\n",
    "print(f'Podzbiór kobiety | test Shapiro: {stats.shapiro(X_kob)}')\n",
    "print(f'Podzbiór kobiety | test D’Agostino i Pearsona: {stats.normaltest(X_kob)}\\n')\n",
    "\n",
    "print(f'Podzbiór mężczyźni | test Shapiro: {stats.shapiro(X_mezcz)}')\n",
    "print(f'Podzbiór mężczyźni | test D’Agostino i Pearsona: {stats.normaltest(X_mezcz)}\\n')"
   ]
  },
  {
   "cell_type": "code",
   "execution_count": null,
   "id": "193c5375",
   "metadata": {},
   "outputs": [],
   "source": []
  }
 ],
 "metadata": {
  "kernelspec": {
   "display_name": "Python 3 (ipykernel)",
   "language": "python",
   "name": "python3"
  },
  "language_info": {
   "codemirror_mode": {
    "name": "ipython",
    "version": 3
   },
   "file_extension": ".py",
   "mimetype": "text/x-python",
   "name": "python",
   "nbconvert_exporter": "python",
   "pygments_lexer": "ipython3",
   "version": "3.10.4"
  }
 },
 "nbformat": 4,
 "nbformat_minor": 5
}
