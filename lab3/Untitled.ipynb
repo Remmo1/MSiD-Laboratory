{
 "cells": [
  {
   "cell_type": "markdown",
   "id": "820313ec",
   "metadata": {},
   "source": [
    "### 4 zajęcia \"dopasowanie rozkładu do danych\""
   ]
  },
  {
   "cell_type": "code",
   "execution_count": 1,
   "id": "78c44876",
   "metadata": {},
   "outputs": [
    {
     "data": {
      "text/html": [
       "<div>\n",
       "<style scoped>\n",
       "    .dataframe tbody tr th:only-of-type {\n",
       "        vertical-align: middle;\n",
       "    }\n",
       "\n",
       "    .dataframe tbody tr th {\n",
       "        vertical-align: top;\n",
       "    }\n",
       "\n",
       "    .dataframe thead th {\n",
       "        text-align: right;\n",
       "    }\n",
       "</style>\n",
       "<table border=\"1\" class=\"dataframe\">\n",
       "  <thead>\n",
       "    <tr style=\"text-align: right;\">\n",
       "      <th></th>\n",
       "      <th>Name</th>\n",
       "      <th>Total, km</th>\n",
       "      <th>In Belarus, km</th>\n",
       "    </tr>\n",
       "  </thead>\n",
       "  <tbody>\n",
       "    <tr>\n",
       "      <th>0</th>\n",
       "      <td>Dnieper River</td>\n",
       "      <td>2145</td>\n",
       "      <td>690</td>\n",
       "    </tr>\n",
       "    <tr>\n",
       "      <th>1</th>\n",
       "      <td>Western Dvina</td>\n",
       "      <td>1020</td>\n",
       "      <td>328</td>\n",
       "    </tr>\n",
       "    <tr>\n",
       "      <th>2</th>\n",
       "      <td>Neman River</td>\n",
       "      <td>937</td>\n",
       "      <td>459</td>\n",
       "    </tr>\n",
       "    <tr>\n",
       "      <th>3</th>\n",
       "      <td>Bug River</td>\n",
       "      <td>831</td>\n",
       "      <td>169</td>\n",
       "    </tr>\n",
       "    <tr>\n",
       "      <th>4</th>\n",
       "      <td>Pripyat River</td>\n",
       "      <td>761</td>\n",
       "      <td>495</td>\n",
       "    </tr>\n",
       "    <tr>\n",
       "      <th>5</th>\n",
       "      <td>Sozh River</td>\n",
       "      <td>648</td>\n",
       "      <td>493</td>\n",
       "    </tr>\n",
       "    <tr>\n",
       "      <th>6</th>\n",
       "      <td>Berezina River</td>\n",
       "      <td>613</td>\n",
       "      <td>613</td>\n",
       "    </tr>\n",
       "    <tr>\n",
       "      <th>7</th>\n",
       "      <td>Vilija</td>\n",
       "      <td>510</td>\n",
       "      <td>276</td>\n",
       "    </tr>\n",
       "    <tr>\n",
       "      <th>8</th>\n",
       "      <td>Ptsich</td>\n",
       "      <td>421</td>\n",
       "      <td>421</td>\n",
       "    </tr>\n",
       "    <tr>\n",
       "      <th>9</th>\n",
       "      <td>Shchara</td>\n",
       "      <td>325</td>\n",
       "      <td>325</td>\n",
       "    </tr>\n",
       "    <tr>\n",
       "      <th>10</th>\n",
       "      <td>Svislach</td>\n",
       "      <td>297</td>\n",
       "      <td>297</td>\n",
       "    </tr>\n",
       "  </tbody>\n",
       "</table>\n",
       "</div>"
      ],
      "text/plain": [
       "              Name  Total, km  In Belarus, km\n",
       "0    Dnieper River       2145             690\n",
       "1    Western Dvina       1020             328\n",
       "2      Neman River        937             459\n",
       "3        Bug River        831             169\n",
       "4    Pripyat River        761             495\n",
       "5       Sozh River        648             493\n",
       "6   Berezina River        613             613\n",
       "7           Vilija        510             276\n",
       "8           Ptsich        421             421\n",
       "9          Shchara        325             325\n",
       "10        Svislach        297             297"
      ]
     },
     "execution_count": 1,
     "metadata": {},
     "output_type": "execute_result"
    }
   ],
   "source": [
    "import numpy as np\n",
    "import matplotlib.pyplot as plt\n",
    "import pandas as pd\n",
    "import requests\n",
    "from bs4 import BeautifulSoup\n",
    "\n",
    "URL = 'https://en.wikipedia.org/wiki/List_of_rivers_of_Belarus'\n",
    "resp = requests.get(URL)\n",
    "if resp.status_code == 200:\n",
    "    soup = BeautifulSoup(resp.content,'html.parser')\n",
    "    tab = soup.find('table',{'class':\"wikitable\"})\n",
    "    df = pd.read_html(str(tab))[0]\n",
    "df"
   ]
  },
  {
   "cell_type": "code",
   "execution_count": 11,
   "id": "f5938162",
   "metadata": {},
   "outputs": [
    {
     "name": "stdout",
     "output_type": "stream",
     "text": [
      "[690 328 459 169 495 493 613 276 421 325 297]\n",
      "[2145 1020  937  831  761  648  613  510  421  325  297]\n",
      "[0.32167832 0.32156863 0.48986126 0.20336943 0.65045992 0.76080247\n",
      " 1.         0.54117647 1.         1.         1.        ]\n",
      "[3.10869565 3.1097561  2.04139434 4.91715976 1.53737374 1.31440162\n",
      " 1.         1.84782609 1.         1.         1.        ]\n"
     ]
    }
   ],
   "source": [
    "X = df['In Belarus, km'].values\n",
    "X2 = df['Total, km'].values\n",
    "X3 = X / X2\n",
    "X4 = X2 / X\n",
    "\n",
    "print(X)\n",
    "print(X2)\n",
    "print(X3)\n",
    "print(X4)"
   ]
  },
  {
   "cell_type": "code",
   "execution_count": 12,
   "id": "0273d286",
   "metadata": {},
   "outputs": [
    {
     "name": "stdout",
     "output_type": "stream",
     "text": [
      "ShapiroResult(statistic=0.9710095524787903, pvalue=0.8965332508087158)\n",
      "ShapiroResult(statistic=0.7849349975585938, pvalue=0.005961146671324968)\n",
      "ShapiroResult(statistic=0.8740819692611694, pvalue=0.08745361119508743)\n",
      "ShapiroResult(statistic=0.8065976500511169, pvalue=0.011489590629935265)\n"
     ]
    }
   ],
   "source": [
    "from scipy import stats\n",
    "\n",
    "print(stats.shapiro(X))\n",
    "print(stats.shapiro(X2))\n",
    "print(stats.shapiro(X3))\n",
    "print(stats.shapiro(X4))"
   ]
  },
  {
   "cell_type": "code",
   "execution_count": 14,
   "id": "6cd15775",
   "metadata": {},
   "outputs": [
    {
     "name": "stdout",
     "output_type": "stream",
     "text": [
      "NormaltestResult(statistic=0.24357415555592887, pvalue=0.8853368563259909)\n",
      "NormaltestResult(statistic=15.942408212758057, pvalue=0.00034526300211671366)\n",
      "NormaltestResult(statistic=3.16095973313369, pvalue=0.20587628135300026)\n",
      "NormaltestResult(statistic=6.699800103040207, pvalue=0.03508786090395246)\n"
     ]
    }
   ],
   "source": [
    "print(stats.normaltest(X))\n",
    "print(stats.normaltest(X2))\n",
    "print(stats.normaltest(X3))\n",
    "print(stats.normaltest(X4))"
   ]
  },
  {
   "cell_type": "code",
   "execution_count": null,
   "id": "70fda52e",
   "metadata": {},
   "outputs": [],
   "source": []
  }
 ],
 "metadata": {
  "kernelspec": {
   "display_name": "Python 3 (ipykernel)",
   "language": "python",
   "name": "python3"
  },
  "language_info": {
   "codemirror_mode": {
    "name": "ipython",
    "version": 3
   },
   "file_extension": ".py",
   "mimetype": "text/x-python",
   "name": "python",
   "nbconvert_exporter": "python",
   "pygments_lexer": "ipython3",
   "version": "3.10.4"
  }
 },
 "nbformat": 4,
 "nbformat_minor": 5
}
