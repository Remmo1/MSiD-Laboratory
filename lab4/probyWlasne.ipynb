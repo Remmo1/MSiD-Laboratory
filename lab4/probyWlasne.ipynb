{
 "cells": [
  {
   "cell_type": "code",
   "execution_count": 3,
   "id": "b882d26f",
   "metadata": {},
   "outputs": [],
   "source": [
    "import numpy as np\n",
    "import matplotlib.pyplot as plt\n",
    "from scipy import optimize"
   ]
  },
  {
   "cell_type": "code",
   "execution_count": 4,
   "id": "d7ab170e",
   "metadata": {},
   "outputs": [
    {
     "name": "stdout",
     "output_type": "stream",
     "text": [
      "Optimization terminated successfully.\n",
      "         Current function value: -2.023866\n",
      "         Iterations: 17\n",
      "         Function evaluations: 34\n"
     ]
    },
    {
     "data": {
      "text/plain": [
       "array([0.2396486])"
      ]
     },
     "execution_count": 4,
     "metadata": {},
     "output_type": "execute_result"
    }
   ],
   "source": [
    "def Fcelu(x):\n",
    "  return np.cos(x) - 3 * np.exp ( -(x - 0.2) ** 2)\n",
    "\n",
    "x_pocz = np.random.uniform(-1,4)\n",
    "optimize.fmin(Fcelu, x_pocz)  # implementacja metody Neldera-Meada "
   ]
  },
  {
   "cell_type": "code",
   "execution_count": 7,
   "id": "e9cccf59",
   "metadata": {},
   "outputs": [
    {
     "name": "stdout",
     "output_type": "stream",
     "text": [
      "Optimization terminated successfully.\n",
      "         Current function value: -2.023866\n",
      "         Iterations: 13\n",
      "         Function evaluations: 26\n"
     ]
    },
    {
     "data": {
      "text/plain": [
       "array([0.23961278])"
      ]
     },
     "execution_count": 7,
     "metadata": {},
     "output_type": "execute_result"
    }
   ],
   "source": [
    "def Fcelu(x):\n",
    "  return np.cos(x) - 3 * np.exp ( -(x - 0.2) ** 2)\n",
    "\n",
    "x_pocz = np.random.uniform(-1,4)\n",
    "optimize.fmin(Fcelu, x_pocz)  # implementacja metody Neldera-Meada "
   ]
  },
  {
   "cell_type": "code",
   "execution_count": 8,
   "id": "6829be8c",
   "metadata": {},
   "outputs": [
    {
     "name": "stdout",
     "output_type": "stream",
     "text": [
      "Optimization terminated successfully.\n",
      "         Current function value: -1.000000\n",
      "         Iterations: 17\n",
      "         Function evaluations: 34\n"
     ]
    },
    {
     "data": {
      "text/plain": [
       "array([6.28317683])"
      ]
     },
     "execution_count": 8,
     "metadata": {},
     "output_type": "execute_result"
    }
   ],
   "source": [
    "def neg_Fcelu(x):\n",
    "  return -Fcelu(x)\n",
    "\n",
    "optimize.fmin(neg_Fcelu, np.random.uniform(-1,4))"
   ]
  },
  {
   "cell_type": "code",
   "execution_count": 9,
   "id": "fc056481",
   "metadata": {},
   "outputs": [
    {
     "data": {
      "text/plain": [
       "1.25"
      ]
     },
     "execution_count": 9,
     "metadata": {},
     "output_type": "execute_result"
    }
   ],
   "source": [
    "def Fcelu(x):\n",
    "  return (x[0]-2)**2 + (x[1]+1)**2\n",
    "\n",
    "Fcelu([3,-0.5])"
   ]
  },
  {
   "cell_type": "code",
   "execution_count": 18,
   "id": "68c2973a",
   "metadata": {},
   "outputs": [
    {
     "name": "stdout",
     "output_type": "stream",
     "text": [
      "[-0.08192413  0.03920229]\n",
      "Optimum jest w punkcie [ 2.00001863 -0.99999567]\n",
      "Wartość funkcji celu w optimum to 0.000000\n"
     ]
    }
   ],
   "source": [
    "def Fcelu(x):\n",
    "  x1, x2 = x       # tak zwane rozpakowanie krotki\n",
    "  return (x1-2)**2 + (x2+1)**2\n",
    "\n",
    "x_pocz = np.random.normal(loc=0, scale=0.1, size=2)\n",
    "x_opt = optimize.fmin(Fcelu, x_pocz, disp=False)   # tym razem wyłączam raport optymalizatora\n",
    "print(f'Optimum jest w punkcie {x_opt}\\nWartość funkcji celu w optimum to {Fcelu(x_opt):f}')"
   ]
  },
  {
   "cell_type": "code",
   "execution_count": 17,
   "id": "f43d46c1",
   "metadata": {},
   "outputs": [
    {
     "name": "stdout",
     "output_type": "stream",
     "text": [
      "Optimization terminated successfully.\n",
      "         Current function value: 0.000000\n",
      "         Iterations: 2\n",
      "         Function evaluations: 36\n"
     ]
    },
    {
     "data": {
      "text/plain": [
       "array([ 2., -1.])"
      ]
     },
     "execution_count": 17,
     "metadata": {},
     "output_type": "execute_result"
    }
   ],
   "source": [
    "optimize.fmin_powell(Fcelu, x_pocz)"
   ]
  },
  {
   "cell_type": "code",
   "execution_count": 16,
   "id": "ceadb6b8",
   "metadata": {},
   "outputs": [
    {
     "name": "stdout",
     "output_type": "stream",
     "text": [
      "Optimization terminated successfully.\n",
      "         Current function value: 0.000000\n",
      "         Iterations: 1\n",
      "         Function evaluations: 9\n",
      "         Gradient evaluations: 3\n"
     ]
    },
    {
     "data": {
      "text/plain": [
       "array([ 2.        , -1.00000003])"
      ]
     },
     "execution_count": 16,
     "metadata": {},
     "output_type": "execute_result"
    }
   ],
   "source": [
    "optimize.fmin_cg(Fcelu, x_pocz)"
   ]
  },
  {
   "cell_type": "code",
   "execution_count": 19,
   "id": "a8fc8bd2",
   "metadata": {},
   "outputs": [
    {
     "name": "stdout",
     "output_type": "stream",
     "text": [
      "Optimization terminated successfully.\n",
      "         Current function value: 0.000000\n",
      "         Iterations: 2\n",
      "         Function evaluations: 9\n",
      "         Gradient evaluations: 3\n"
     ]
    },
    {
     "data": {
      "text/plain": [
       "array([ 1.99999996, -1.        ])"
      ]
     },
     "execution_count": 19,
     "metadata": {},
     "output_type": "execute_result"
    }
   ],
   "source": [
    "optimize.fmin_bfgs(Fcelu, x_pocz)"
   ]
  },
  {
   "cell_type": "code",
   "execution_count": 20,
   "id": "197e90be",
   "metadata": {},
   "outputs": [
    {
     "data": {
      "text/plain": [
       "array([ 1.99999995, -1.00000001])"
      ]
     },
     "execution_count": 20,
     "metadata": {},
     "output_type": "execute_result"
    }
   ],
   "source": [
    "optimize.minimize(Fcelu, x0=x_pocz, method='L-BFGS-B').x"
   ]
  },
  {
   "cell_type": "code",
   "execution_count": 21,
   "id": "970441de",
   "metadata": {},
   "outputs": [
    {
     "data": {
      "text/plain": [
       "array([ 2.00001863, -0.99999567])"
      ]
     },
     "execution_count": 21,
     "metadata": {},
     "output_type": "execute_result"
    }
   ],
   "source": [
    "optimize.minimize(Fcelu, x0=x_pocz, method='Nelder-Mead').x "
   ]
  },
  {
   "cell_type": "code",
   "execution_count": 22,
   "id": "72f7bfff",
   "metadata": {},
   "outputs": [
    {
     "data": {
      "text/plain": [
       "array([ 1.99999946, -1.000045  ])"
      ]
     },
     "execution_count": 22,
     "metadata": {},
     "output_type": "execute_result"
    }
   ],
   "source": [
    "optimize.brute(Fcelu, (slice(-2, 2, 0.1), slice(1, 6, 0.1)))"
   ]
  },
  {
   "cell_type": "code",
   "execution_count": 23,
   "id": "10054650",
   "metadata": {},
   "outputs": [
    {
     "data": {
      "text/plain": [
       "array([ 3.5       , -3.75000003])"
      ]
     },
     "execution_count": 23,
     "metadata": {},
     "output_type": "execute_result"
    }
   ],
   "source": [
    "def Fcelu(x):\n",
    "    x1, x2 = x\n",
    "    return (x1-1)**2 + (x2+2)**2 +x1*x2\n",
    "\n",
    "ograniczenia = {'x1': (3.5, 6), \n",
    "                'x2': (-5,-2)}\n",
    "\n",
    "x_pocz = (np.random.uniform(*ograniczenia['x1']),\n",
    "          np.random.uniform(*ograniczenia['x2']))\n",
    "optimize.minimize(Fcelu, x_pocz, method='TNC', bounds=list(ograniczenia.values())).x"
   ]
  },
  {
   "cell_type": "code",
   "execution_count": 24,
   "id": "6d18e9dd",
   "metadata": {},
   "outputs": [
    {
     "data": {
      "text/plain": [
       "array([ 2.19314689, -2.87820743])"
      ]
     },
     "execution_count": 24,
     "metadata": {},
     "output_type": "execute_result"
    }
   ],
   "source": [
    "def g(x):\n",
    "    x1, x2 = x\n",
    "    return x2 + 2 + 2*(x1-3)**2 - (x1-3)**4\n",
    "\n",
    "ograniczenia = {'type': 'ineq', 'fun': g}\n",
    "\n",
    "x_pocz = np.random.uniform(-5,5, size=2)\n",
    "optimize.minimize(Fcelu, x_pocz, method='SLSQP', constraints=ograniczenia).x"
   ]
  },
  {
   "cell_type": "code",
   "execution_count": 25,
   "id": "d59723a8",
   "metadata": {},
   "outputs": [
    {
     "name": "stdout",
     "output_type": "stream",
     "text": [
      "Minimum: [-0.70719018  0.70702339]\n",
      "g1: -0.000000\n",
      "g2: 0.707023\n"
     ]
    }
   ],
   "source": [
    "def Fcelu(x):\n",
    "    x1, x2 = x\n",
    "    return x1*x2\n",
    "\n",
    "def g1(x):\n",
    "    x1, x2 = x\n",
    "    return 1 - (x1**2 + x2**2)\n",
    "\n",
    "def g2(x):\n",
    "    x1, x2 = x\n",
    "    return x2\n",
    "\n",
    "x_pocz = np.random.uniform(0, 1, size=2)\n",
    "x_opt = optimize.fmin_cobyla(Fcelu, x_pocz, cons=[g1, g2])\n",
    "print(f'Minimum: {x_opt}')\n",
    "print(f'g1: {g1(x_opt):f}')\n",
    "print(f'g2: {g2(x_opt):f}')"
   ]
  },
  {
   "cell_type": "code",
   "execution_count": 26,
   "id": "7a8451c3",
   "metadata": {},
   "outputs": [
    {
     "data": {
      "text/plain": [
       "     fun: 25.0\n",
       "     jac: array([ 0., 10.,  0.])\n",
       " message: 'Optimization terminated successfully'\n",
       "    nfev: 21\n",
       "     nit: 5\n",
       "    njev: 5\n",
       "  status: 0\n",
       " success: True\n",
       "       x: array([-2.20683897e-08,  5.00000000e+00, -2.20683896e-08])"
      ]
     },
     "execution_count": 26,
     "metadata": {},
     "output_type": "execute_result"
    }
   ],
   "source": [
    "def Fcelu(x):\n",
    "    x1, x2, x3 = x\n",
    "    return x1**2 + x2**2 + x3**2\n",
    "\n",
    "def g1(x):\n",
    "    x1, x2, x3 = x\n",
    "    return x1 - x3\n",
    "\n",
    "def g2(x):\n",
    "    x1, x2, x3 = x\n",
    "    return x1 + x2 - 5 - x3\n",
    "\n",
    "ograniczenia = ({'type': 'eq', 'fun': g1},\n",
    "                {'type': 'eq', 'fun': g2})\n",
    "\n",
    "x_pocz = np.random.uniform(0, 1, size=3)\n",
    "optimize.minimize(Fcelu, x_pocz, method='SLSQP', constraints=ograniczenia)"
   ]
  },
  {
   "cell_type": "code",
   "execution_count": null,
   "id": "be302929",
   "metadata": {},
   "outputs": [],
   "source": []
  }
 ],
 "metadata": {
  "kernelspec": {
   "display_name": "Python 3 (ipykernel)",
   "language": "python",
   "name": "python3"
  },
  "language_info": {
   "codemirror_mode": {
    "name": "ipython",
    "version": 3
   },
   "file_extension": ".py",
   "mimetype": "text/x-python",
   "name": "python",
   "nbconvert_exporter": "python",
   "pygments_lexer": "ipython3",
   "version": "3.10.4"
  }
 },
 "nbformat": 4,
 "nbformat_minor": 5
}
