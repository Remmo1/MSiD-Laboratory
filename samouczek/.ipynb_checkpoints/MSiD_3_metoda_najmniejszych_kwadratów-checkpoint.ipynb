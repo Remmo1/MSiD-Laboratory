{
 "cells": [
  {
   "cell_type": "markdown",
   "metadata": {
    "id": "cl7f8AwaBSI5"
   },
   "source": [
    "### **Dopasowanie modelu do danych** metodą najmniejszych kwadratów (ang. *least-squares method*)"
   ]
  },
  {
   "cell_type": "code",
   "execution_count": 1,
   "metadata": {
    "id": "hO2mBBprCOUj"
   },
   "outputs": [],
   "source": [
    "import numpy as np\n",
    "import matplotlib.pyplot as plt\n",
    "import pandas as pd "
   ]
  },
  {
   "cell_type": "markdown",
   "metadata": {
    "id": "HZqTAaScBwKI"
   },
   "source": [
    "**Zbiór danych** (ang. *dataset*) został opracowany na podstawie: <br>\n",
    "[Eurostat](https://ec.europa.eu/eurostat/data/database), [World Happiness Report](https://worldhappiness.report/) <br>\n",
    "Dla każdego państwa w Europie zestawiamy dwa rodzaje pomiarów/cech (ang. *features*): PKB na osobę i poczucie szczęścia obywatela."
   ]
  },
  {
   "cell_type": "code",
   "execution_count": 4,
   "metadata": {
    "colab": {
     "base_uri": "https://localhost:8080/",
     "height": 1000
    },
    "id": "W9b1XgKFBa-r",
    "outputId": "bc58f0b2-41a2-40d4-cb38-27fd513c12f2"
   },
   "outputs": [
    {
     "name": "stdout",
     "output_type": "stream",
     "text": [
      "Pobieram plik z  https://byes.pl/wp-content/uploads/datasets/GDP_happiness.csv\n",
      "Pobrano plik\n"
     ]
    },
    {
     "data": {
      "text/html": [
       "<div>\n",
       "<style scoped>\n",
       "    .dataframe tbody tr th:only-of-type {\n",
       "        vertical-align: middle;\n",
       "    }\n",
       "\n",
       "    .dataframe tbody tr th {\n",
       "        vertical-align: top;\n",
       "    }\n",
       "\n",
       "    .dataframe thead th {\n",
       "        text-align: right;\n",
       "    }\n",
       "</style>\n",
       "<table border=\"1\" class=\"dataframe\">\n",
       "  <thead>\n",
       "    <tr style=\"text-align: right;\">\n",
       "      <th></th>\n",
       "      <th>GDP per capita</th>\n",
       "      <th>happiness</th>\n",
       "    </tr>\n",
       "  </thead>\n",
       "  <tbody>\n",
       "    <tr>\n",
       "      <th>Belgium</th>\n",
       "      <td>133.0</td>\n",
       "      <td>6.864</td>\n",
       "    </tr>\n",
       "    <tr>\n",
       "      <th>Bulgaria</th>\n",
       "      <td>28.2</td>\n",
       "      <td>5.102</td>\n",
       "    </tr>\n",
       "    <tr>\n",
       "      <th>Czech Republic</th>\n",
       "      <td>67.4</td>\n",
       "      <td>6.911</td>\n",
       "    </tr>\n",
       "    <tr>\n",
       "      <th>Denmark</th>\n",
       "      <td>172.5</td>\n",
       "      <td>7.646</td>\n",
       "    </tr>\n",
       "    <tr>\n",
       "      <th>Germany</th>\n",
       "      <td>133.2</td>\n",
       "      <td>7.076</td>\n",
       "    </tr>\n",
       "    <tr>\n",
       "      <th>Estonia</th>\n",
       "      <td>68.1</td>\n",
       "      <td>6.022</td>\n",
       "    </tr>\n",
       "    <tr>\n",
       "      <th>Ireland</th>\n",
       "      <td>231.9</td>\n",
       "      <td>7.094</td>\n",
       "    </tr>\n",
       "    <tr>\n",
       "      <th>Greece</th>\n",
       "      <td>54.9</td>\n",
       "      <td>5.515</td>\n",
       "    </tr>\n",
       "    <tr>\n",
       "      <th>Spain</th>\n",
       "      <td>84.8</td>\n",
       "      <td>6.401</td>\n",
       "    </tr>\n",
       "    <tr>\n",
       "      <th>France</th>\n",
       "      <td>115.4</td>\n",
       "      <td>6.664</td>\n",
       "    </tr>\n",
       "    <tr>\n",
       "      <th>Croatia</th>\n",
       "      <td>42.8</td>\n",
       "      <td>5.505</td>\n",
       "    </tr>\n",
       "    <tr>\n",
       "      <th>Italy</th>\n",
       "      <td>95.2</td>\n",
       "      <td>6.387</td>\n",
       "    </tr>\n",
       "    <tr>\n",
       "      <th>Cyprus</th>\n",
       "      <td>81.2</td>\n",
       "      <td>6.159</td>\n",
       "    </tr>\n",
       "    <tr>\n",
       "      <th>Lithuania</th>\n",
       "      <td>56.0</td>\n",
       "      <td>6.215</td>\n",
       "    </tr>\n",
       "    <tr>\n",
       "      <th>Luxembourg</th>\n",
       "      <td>327.9</td>\n",
       "      <td>7.238</td>\n",
       "    </tr>\n",
       "    <tr>\n",
       "      <th>Hungary</th>\n",
       "      <td>48.0</td>\n",
       "      <td>6.000</td>\n",
       "    </tr>\n",
       "    <tr>\n",
       "      <th>Malta</th>\n",
       "      <td>85.6</td>\n",
       "      <td>6.773</td>\n",
       "    </tr>\n",
       "    <tr>\n",
       "      <th>Netherlands</th>\n",
       "      <td>149.9</td>\n",
       "      <td>7.449</td>\n",
       "    </tr>\n",
       "    <tr>\n",
       "      <th>Austria</th>\n",
       "      <td>143.7</td>\n",
       "      <td>7.294</td>\n",
       "    </tr>\n",
       "    <tr>\n",
       "      <th>Poland</th>\n",
       "      <td>44.5</td>\n",
       "      <td>6.186</td>\n",
       "    </tr>\n",
       "    <tr>\n",
       "      <th>Portugal</th>\n",
       "      <td>66.5</td>\n",
       "      <td>5.911</td>\n",
       "    </tr>\n",
       "    <tr>\n",
       "      <th>Romania</th>\n",
       "      <td>37.0</td>\n",
       "      <td>6.124</td>\n",
       "    </tr>\n",
       "    <tr>\n",
       "      <th>Slovenia</th>\n",
       "      <td>74.3</td>\n",
       "      <td>6.363</td>\n",
       "    </tr>\n",
       "    <tr>\n",
       "      <th>Slovakia</th>\n",
       "      <td>55.2</td>\n",
       "      <td>6.281</td>\n",
       "    </tr>\n",
       "    <tr>\n",
       "      <th>Finland</th>\n",
       "      <td>139.8</td>\n",
       "      <td>7.809</td>\n",
       "    </tr>\n",
       "    <tr>\n",
       "      <th>Sweden</th>\n",
       "      <td>148.1</td>\n",
       "      <td>7.353</td>\n",
       "    </tr>\n",
       "    <tr>\n",
       "      <th>Great Britain</th>\n",
       "      <td>121.2</td>\n",
       "      <td>7.165</td>\n",
       "    </tr>\n",
       "    <tr>\n",
       "      <th>Iceland</th>\n",
       "      <td>195.7</td>\n",
       "      <td>7.504</td>\n",
       "    </tr>\n",
       "    <tr>\n",
       "      <th>Norway</th>\n",
       "      <td>217.3</td>\n",
       "      <td>7.488</td>\n",
       "    </tr>\n",
       "    <tr>\n",
       "      <th>Switzerland</th>\n",
       "      <td>244.5</td>\n",
       "      <td>7.560</td>\n",
       "    </tr>\n",
       "    <tr>\n",
       "      <th>Montenegro</th>\n",
       "      <td>25.5</td>\n",
       "      <td>5.546</td>\n",
       "    </tr>\n",
       "    <tr>\n",
       "      <th>Albania</th>\n",
       "      <td>15.3</td>\n",
       "      <td>4.883</td>\n",
       "    </tr>\n",
       "    <tr>\n",
       "      <th>Serbia</th>\n",
       "      <td>21.2</td>\n",
       "      <td>5.778</td>\n",
       "    </tr>\n",
       "    <tr>\n",
       "      <th>Turkey</th>\n",
       "      <td>26.4</td>\n",
       "      <td>5.132</td>\n",
       "    </tr>\n",
       "    <tr>\n",
       "      <th>Latvia</th>\n",
       "      <td>NaN</td>\n",
       "      <td>5.950</td>\n",
       "    </tr>\n",
       "  </tbody>\n",
       "</table>\n",
       "</div>"
      ],
      "text/plain": [
       "                GDP per capita  happiness\n",
       "Belgium                  133.0      6.864\n",
       "Bulgaria                  28.2      5.102\n",
       "Czech Republic            67.4      6.911\n",
       "Denmark                  172.5      7.646\n",
       "Germany                  133.2      7.076\n",
       "Estonia                   68.1      6.022\n",
       "Ireland                  231.9      7.094\n",
       "Greece                    54.9      5.515\n",
       "Spain                     84.8      6.401\n",
       "France                   115.4      6.664\n",
       "Croatia                   42.8      5.505\n",
       "Italy                     95.2      6.387\n",
       "Cyprus                    81.2      6.159\n",
       "Lithuania                 56.0      6.215\n",
       "Luxembourg               327.9      7.238\n",
       "Hungary                   48.0      6.000\n",
       "Malta                     85.6      6.773\n",
       "Netherlands              149.9      7.449\n",
       "Austria                  143.7      7.294\n",
       "Poland                    44.5      6.186\n",
       "Portugal                  66.5      5.911\n",
       "Romania                   37.0      6.124\n",
       "Slovenia                  74.3      6.363\n",
       "Slovakia                  55.2      6.281\n",
       "Finland                  139.8      7.809\n",
       "Sweden                   148.1      7.353\n",
       "Great Britain            121.2      7.165\n",
       "Iceland                  195.7      7.504\n",
       "Norway                   217.3      7.488\n",
       "Switzerland              244.5      7.560\n",
       "Montenegro                25.5      5.546\n",
       "Albania                   15.3      4.883\n",
       "Serbia                    21.2      5.778\n",
       "Turkey                    26.4      5.132\n",
       "Latvia                     NaN      5.950"
      ]
     },
     "metadata": {},
     "output_type": "display_data"
    }
   ],
   "source": [
    "import urllib.request\n",
    "import os\n",
    "\n",
    "plik = 'GDP_happiness.csv'\n",
    "URL = \"https://byes.pl/wp-content/uploads/datasets/\" + plik\n",
    "if not os.path.isfile(plik):\n",
    "    print('Pobieram plik z ', URL)\n",
    "    urllib.request.urlretrieve(URL, plik)\n",
    "    print('Pobrano plik')\n",
    "else:\n",
    "    print(f'Plik {plik} już jest na dysku')\n",
    "\n",
    "dane = pd.read_csv(plik, index_col=[0])   \n",
    "\n",
    "display(dane)"
   ]
  },
  {
   "cell_type": "markdown",
   "metadata": {
    "id": "ydspvRsHClg1"
   },
   "source": [
    "**Oczyszczanie danych** <br>\n",
    "Dane dotyczące poczucia szczęścia pobierałem automatem z pliku i pdf i akurat Litwa została niepoprawnie odczytana. Brakujące dane zostaną uzupełnione średnią z pozostałych dostępnych pomiarów. <br>"
   ]
  },
  {
   "cell_type": "code",
   "execution_count": 5,
   "metadata": {
    "colab": {
     "base_uri": "https://localhost:8080/",
     "height": 206
    },
    "id": "AwdYubF9CVYF",
    "outputId": "1e5754ff-1ca0-483a-84aa-2ca3fa3a8d05"
   },
   "outputs": [
    {
     "data": {
      "text/html": [
       "<div>\n",
       "<style scoped>\n",
       "    .dataframe tbody tr th:only-of-type {\n",
       "        vertical-align: middle;\n",
       "    }\n",
       "\n",
       "    .dataframe tbody tr th {\n",
       "        vertical-align: top;\n",
       "    }\n",
       "\n",
       "    .dataframe thead th {\n",
       "        text-align: right;\n",
       "    }\n",
       "</style>\n",
       "<table border=\"1\" class=\"dataframe\">\n",
       "  <thead>\n",
       "    <tr style=\"text-align: right;\">\n",
       "      <th></th>\n",
       "      <th>GDP per capita</th>\n",
       "      <th>happiness</th>\n",
       "    </tr>\n",
       "  </thead>\n",
       "  <tbody>\n",
       "    <tr>\n",
       "      <th>Montenegro</th>\n",
       "      <td>25.500000</td>\n",
       "      <td>5.546</td>\n",
       "    </tr>\n",
       "    <tr>\n",
       "      <th>Albania</th>\n",
       "      <td>15.300000</td>\n",
       "      <td>4.883</td>\n",
       "    </tr>\n",
       "    <tr>\n",
       "      <th>Serbia</th>\n",
       "      <td>21.200000</td>\n",
       "      <td>5.778</td>\n",
       "    </tr>\n",
       "    <tr>\n",
       "      <th>Turkey</th>\n",
       "      <td>26.400000</td>\n",
       "      <td>5.132</td>\n",
       "    </tr>\n",
       "    <tr>\n",
       "      <th>Latvia</th>\n",
       "      <td>104.476471</td>\n",
       "      <td>5.950</td>\n",
       "    </tr>\n",
       "  </tbody>\n",
       "</table>\n",
       "</div>"
      ],
      "text/plain": [
       "            GDP per capita  happiness\n",
       "Montenegro       25.500000      5.546\n",
       "Albania          15.300000      4.883\n",
       "Serbia           21.200000      5.778\n",
       "Turkey           26.400000      5.132\n",
       "Latvia          104.476471      5.950"
      ]
     },
     "execution_count": 5,
     "metadata": {},
     "output_type": "execute_result"
    }
   ],
   "source": [
    "dane = dane.fillna(dane.mean(axis=0))\n",
    "dane.tail()"
   ]
  },
  {
   "cell_type": "markdown",
   "metadata": {
    "id": "ZUOPG7qwEA3A"
   },
   "source": [
    "**Zastanów się**: w jaki inny sposób można leczyć objawowo zbiory zawierające brakujące wartości?"
   ]
  },
  {
   "cell_type": "markdown",
   "metadata": {
    "id": "ncw9lgp2Eb8U"
   },
   "source": [
    "Ramka danych jest strukturą pośredniczącą między różnymi rodzajami źródeł danych a metodami przetwarzania/analizy danych. <br>\n",
    "Z ramki zostaną wybrane dwie serie, wartości których trafią do osobnych tabel: "
   ]
  },
  {
   "cell_type": "code",
   "execution_count": 7,
   "metadata": {
    "id": "edHLQ4PiEBQ9"
   },
   "outputs": [],
   "source": [
    "X = dane['GDP per capita'].values\n",
    "Y = dane['happiness'].values"
   ]
  },
  {
   "cell_type": "markdown",
   "metadata": {
    "id": "sEPsq97HFvG0"
   },
   "source": [
    "**Wizualizacja danych** <br>\n",
    "Można to zrobić biblioteką ```matplotlib``` ale to już znasz. Warto poznać możliwości biblioteki ```seaborn```, która pozwala na szybkie generowanie wizualizacji o jakości nadającej się do publikacji (ang. *publication quality*)."
   ]
  },
  {
   "cell_type": "code",
   "execution_count": 8,
   "metadata": {
    "colab": {
     "base_uri": "https://localhost:8080/",
     "height": 388
    },
    "id": "IKh5kEfkEO7o",
    "outputId": "f74e32a0-2aff-4688-de4d-464ad94282c3"
   },
   "outputs": [
    {
     "ename": "ModuleNotFoundError",
     "evalue": "No module named 'seaborn'",
     "output_type": "error",
     "traceback": [
      "\u001b[1;31m---------------------------------------------------------------------------\u001b[0m",
      "\u001b[1;31mModuleNotFoundError\u001b[0m                       Traceback (most recent call last)",
      "Input \u001b[1;32mIn [8]\u001b[0m, in \u001b[0;36m<cell line: 1>\u001b[1;34m()\u001b[0m\n\u001b[1;32m----> 1\u001b[0m \u001b[38;5;28;01mimport\u001b[39;00m \u001b[38;5;21;01mseaborn\u001b[39;00m \u001b[38;5;28;01mas\u001b[39;00m \u001b[38;5;21;01msns\u001b[39;00m\n\u001b[0;32m      3\u001b[0m plt\u001b[38;5;241m.\u001b[39mfigure(figsize\u001b[38;5;241m=\u001b[39m(\u001b[38;5;241m6\u001b[39m,\u001b[38;5;241m6\u001b[39m))\n\u001b[0;32m      4\u001b[0m sns\u001b[38;5;241m.\u001b[39mscatterplot(x\u001b[38;5;241m=\u001b[39m\u001b[38;5;124m'\u001b[39m\u001b[38;5;124mGDP per capita\u001b[39m\u001b[38;5;124m'\u001b[39m, y\u001b[38;5;241m=\u001b[39m\u001b[38;5;124m'\u001b[39m\u001b[38;5;124mhappiness\u001b[39m\u001b[38;5;124m'\u001b[39m, data\u001b[38;5;241m=\u001b[39mdane,\n\u001b[0;32m      5\u001b[0m                 hue\u001b[38;5;241m=\u001b[39m\u001b[38;5;124m'\u001b[39m\u001b[38;5;124mhappiness\u001b[39m\u001b[38;5;124m'\u001b[39m,     \n\u001b[0;32m      6\u001b[0m                 size\u001b[38;5;241m=\u001b[39m\u001b[38;5;124m'\u001b[39m\u001b[38;5;124mGDP per capita\u001b[39m\u001b[38;5;124m'\u001b[39m,\n\u001b[0;32m      7\u001b[0m                 sizes\u001b[38;5;241m=\u001b[39m(\u001b[38;5;241m20\u001b[39m, \u001b[38;5;241m200\u001b[39m), \n\u001b[0;32m      8\u001b[0m                 legend\u001b[38;5;241m=\u001b[39m\u001b[38;5;124m'\u001b[39m\u001b[38;5;124mbrief\u001b[39m\u001b[38;5;124m'\u001b[39m)\n",
      "\u001b[1;31mModuleNotFoundError\u001b[0m: No module named 'seaborn'"
     ]
    }
   ],
   "source": [
    "import seaborn as sns\n",
    "\n",
    "plt.figure(figsize=(6,6))\n",
    "sns.scatterplot(x='GDP per capita', y='happiness', data=dane,\n",
    "                hue='happiness',     \n",
    "                size='GDP per capita',\n",
    "                sizes=(20, 200), \n",
    "                legend='brief')\n",
    "plt.show()"
   ]
  },
  {
   "cell_type": "markdown",
   "metadata": {
    "id": "a92PgZgqG-MM"
   },
   "source": [
    "Jak w świetle przedstawionych danych oceniasz mądrość ludową *pieniądze szczęścia nie dają*?"
   ]
  },
  {
   "cell_type": "markdown",
   "metadata": {
    "id": "cQ8ZcUC-Hc4n"
   },
   "source": [
    "**Dopasowanie do danych $\\{(x_i,y_i)\\}_{i=1}^N$ modelu** liniowego: $$\\overline{y} = ax+b,$$\n",
    "gdzie: <br>\n",
    "$x$ - PKB na osobę (ang. *GDP per capita*), <br>\n",
    "$y$ - poczucie szczęścia (ang. *hapiness*), <br>\n",
    "$\\overline{y}$ - przewidywana/wyliczona przez model wartość $y$ dla podanego $x$,<br>\n",
    "$a, b$ - parametry modelu. <br><br>\n",
    "Dane pomiarowe zmiennej wyjściowej można zebrać do macierzy:<br>\n",
    "$Y = \\begin{bmatrix} y_1 & y_2 & \\cdots & y_N \\end{bmatrix}$, <br>\n",
    "a tak zwane ,,predykcje'' (przybliżenia) modelu do macierzy:<br> \n",
    "$\\overline{Y} = \\begin{bmatrix} \\overline{y}_1 & \\overline{y}_2 & \\cdots & \\overline{y}_N \\end{bmatrix}$. <br>\n"
   ]
  },
  {
   "cell_type": "markdown",
   "metadata": {
    "id": "putMa84PMwiL"
   },
   "source": [
    "Na rozgrzewkę spróbuj **metodą prób i błędów** dobrać wartości parametrów modelu $a$ i $b$ w taki sposób, aby model dobrze reprezentował dane, cokolwiek miałoby to znaczyć. Posłuż się poniższą komórką z kodem. "
   ]
  },
  {
   "cell_type": "code",
   "execution_count": null,
   "metadata": {
    "colab": {
     "base_uri": "https://localhost:8080/",
     "height": 283
    },
    "id": "rOyRS_OSNkWz",
    "outputId": "553f0b82-14ec-41c7-bd85-7ca9ccc6d043"
   },
   "outputs": [
    {
     "data": {
      "image/png": "[encoded data removed]",
      "text/plain": [
       "<Figure size 432x288 with 1 Axes>"
      ]
     },
     "metadata": {
      "needs_background": "light"
     },
     "output_type": "display_data"
    }
   ],
   "source": [
    "def model(parametry, x):\n",
    "  a, b = parametry\n",
    "  return a*x + b\n",
    "\n",
    "#  w tym miejscu wprowadzasz swoje oszacowania (ang. estimates) wartości parametrów modelu\n",
    "a_est, b_est = 0, 0\n",
    "\n",
    "# utwórz wartości x dla całego zakresu zmienności na osi x\n",
    "X_test = np.linspace(start=X.min(), stop=X.max(), num=300)\n",
    "# \"odpytaj\" model dla zakresu osi x objętego pomiarami\n",
    "Y_pred = model(parametry=[a_est, b_est], x=X_test)    \n",
    "# w dalszej części będzie to metoda predict z biblioteki sklearn \n",
    "\n",
    "plt.scatter(X,Y)\n",
    "plt.plot(X_test, Y_pred, color='tab:orange')\n",
    "plt.xlabel('x - PKB na osobę', fontsize=14)\n",
    "plt.ylabel('y - poczucie szczęścia', fontsize=14)\n",
    "plt.show()"
   ]
  },
  {
   "cell_type": "markdown",
   "metadata": {
    "id": "oBY26XrPQANz"
   },
   "source": [
    "**Zastanów się**: co to właściwie znaczy, że jakieś zjawisko/proces ma charakter liniowy? Jak rozpoznać, że zjawisko/proces da się skutecznie opisywać modelem liniowym? <br>\n",
    "Czy zależność między PKB na osobę a poczuciem szczęścia jest liniowa?"
   ]
  },
  {
   "cell_type": "markdown",
   "metadata": {
    "id": "TLGKHa2DWDsJ"
   },
   "source": [
    "**Błąd średniokwadratowy** <br>\n",
    "Niech błąd przybliżenia dla pojedynczej $i$-tej pary pomiarów wynosi:\n",
    "$$e_i=y_i-\\overline{y_i}.$$\n",
    "Wybierz jeden z poniższych wzorów jako miarę błędu popełnianego przez model na danych $X,Y$:\n",
    "\\begin{equation}\n",
    "Q(a,b) = \\sum_{i=1}^Ne_i^2 \\ ,\n",
    "\\tag{1}\n",
    "\\end{equation}\n",
    "\\begin{equation}\n",
    "Q(a,b) = \\frac{1}{N}\\sum_{i=1}^Ne_i^2 \\ ,\n",
    "\\tag{2}\n",
    "\\end{equation}\n",
    "\\begin{equation}\n",
    "Q(a,b) = \\frac{1}{N}\\sqrt{\\sum_{i=1}^Ne_i^2}\\ .\n",
    "\\tag{3}\n",
    "\\end{equation}"
   ]
  },
  {
   "cell_type": "markdown",
   "metadata": {
    "id": "8MORrhCBYKYI"
   },
   "source": [
    "**Zmodyfikuj** poprzednią komórkę z kodem tak, aby wizualizacja modelu na tle danych była uzupełniona wartością błędu przybliżenia. <br>\n",
    "Dzięki temu metodę prób i błędów będzie można przeprowadzić bardziej precyzyjnie. <br>\n",
    "**Zastanów się**: jakie ma znaczenie, które z kryteriów jakości $(1)$, $(2)$, $(3)$ zostało użyte."
   ]
  },
  {
   "cell_type": "markdown",
   "metadata": {
    "id": "FkdL_Jxodihg"
   },
   "source": [
    "Poniżej znajduje się kopia ostatniej komórki. Jedyna różnica jest teraz taka, że trzeba **wyznaczyć parametry modelu sposobem analitycznym** (odpowiednie wzory powinny były pojawić się już na ćwiczeniach z tego kursu. Możesz również dodać wyznaczenie wartości kryterium jakości i porównać uzyskaną wartość z tą, którą udało Ci się osiągnąć metodąprób i błędów. <br>\n",
    "**Zastanów się**: czy jest możliwe osiągnięcie wyniku lepszego niż zwraca metoda analityczna?"
   ]
  },
  {
   "cell_type": "code",
   "execution_count": null,
   "metadata": {
    "id": "DM-mS62_dqij"
   },
   "outputs": [],
   "source": [
    "def model(parametry, x):\n",
    "  a, b = parametry\n",
    "  return a*x + b\n",
    "\n",
    "#  w tym miejscu wprowadzasz wzory analityczne\n",
    "a_est = ...\n",
    "b_est = ...\n",
    "\n",
    "# utwórz wartości x dla całego zakresu zmienności na osi x\n",
    "X_test = np.linspace(start=X.min(), stop=X.max(), num=300)\n",
    "# \"odpytaj\" model dla zakresu osi x objętego pomiarami\n",
    "Y_pred = model(parametry=[a_est, b_est], x=X_test)\n",
    "# w dalszej części będzie to metoda predict z biblioteki sklearn \n",
    "\n",
    "plt.scatter(X,Y)\n",
    "plt.plot(X_test, Y_pred, color='tab:orange')\n",
    "plt.xlabel('x - PKB na osobę', fontsize=14)\n",
    "plt.ylabel('y - poczucie szczęścia', fontsize=14)\n",
    "plt.show()"
   ]
  },
  {
   "cell_type": "markdown",
   "metadata": {
    "id": "6JOnfnFXLxmv"
   },
   "source": [
    "**Zastosuj** poznany na ćwiczeniach algorytm analityczny do estymacji parametrów modelu liniowego:\n",
    "\\begin{equation}\n",
    "\\widehat{\\theta} = (XX^T)^{-1} XY^T, \n",
    "\\tag{4}\n",
    "\\end{equation}\n",
    "gdzie $\\theta = \\begin{bmatrix} a \\\\ b \\end{bmatrix}$. Przemyśl konstrukcję macierzy $X$. Implementacja powinna zająć jedną linijkę kodu."
   ]
  },
  {
   "cell_type": "markdown",
   "metadata": {
    "id": "nlmIqW55CTma"
   },
   "source": [
    "Algorytm (4) realizowany jest w bibliotece `sklearn` (dalsza częśc notatnika) przez metodę `fit` klasy `LinearRegression`. Parametry $a$ przechowywane są w polu tej klasy o nazwie `coef_` a skalarny parametr swobodny (bo nie związany z żadnym wejściem) $b$ w polu `intercept_`. "
   ]
  },
  {
   "cell_type": "markdown",
   "metadata": {
    "id": "0nql05wihpBS"
   },
   "source": [
    "**Uogólniony model liniowy** <br>\n",
    "Dopasuj do danych model o ogólnej postaci:\n",
    "\\begin{equation}\n",
    "\\overline{y} = \\sum_{m=0}^M \\theta_m \\phi_m(x),\n",
    "\\tag{5}\n",
    "\\end{equation}\n",
    "gdzie $\\theta \\in \\Re^{M+1}$ to wektor parametrów modelu a $\\phi_m$ to tak zwane funkcje bazowe. <br>\n",
    "Zestaw $M$ funkcji bazowych **dobierz** wedle uznania (możesz zacząć na przykład od jednomianów).<br>\n",
    "Skomponuj macierze pomiarów $X, Y$ tak, aby dało się wyznaczyć oszacowania $\\widehat{\\theta}$ ze wzoru (4)."
   ]
  },
  {
   "cell_type": "markdown",
   "metadata": {
    "id": "zem6ouVnl-Us"
   },
   "source": [
    "**Przeprowadź eksperyment**. Dopasuj do danych modele o coraz większej wartości $M$. Obserwuj, jak w miarę wzrostu złożoności modelu (rozumianej jako liczba $M$ składających się na niego funkcji bazowych $\\phi_m$) zmienia się błąd przybliżenia. <br>\n",
    "**Zastanów się**: czy najlepszy model to taki, który popełnia najmniejszy błąd na danych, z użyciem których estymowano jego parametry? **Wyciągnij wnioski** praktyczne dotyczące wyboru postaci modelu."
   ]
  },
  {
   "cell_type": "markdown",
   "metadata": {
    "id": "60tDMmnklFLV"
   },
   "source": [
    "Gdy poznasz procedury optymalizacji numerycznej (zajęcia numer 5), będziesz w stanie dopasowywać do danych modele, które nie dadzą się zapisać jako liniowe względem parametrów."
   ]
  },
  {
   "cell_type": "markdown",
   "metadata": {
    "id": "G0FSBweSqvyp"
   },
   "source": [
    "### Generator sztucznych danych\n",
    "Metoda najmniejszych kwadratów zasługuje w pełni na swoją nazwę dopiero w warunkach losowych (zmienna wyjściowa $y$ mierzona jest przy obecności zakłóceń). <br>\n",
    "Poniżej znajduje się kod generatora sztucznych danych, którym można się posłużyć do badania własności samej metody najmniejszych kwadratów. <br>\n",
    "Generator losuje zestaw $\\{x_i\\}_{i=1}^N$ z zadanego rozkładu, następnie oblicza ,,idealne'' wartości wyjść z podanego modelu:\n",
    "$$ \\overline{y}_i = F(\\theta,x_i)$$ \n",
    "o zadanych z góry wartościach parametrów $\\theta$. Na koniec dodawane lub wymnażane są zakłocenia $z_i$ o zadanym rozkładzie:  \n",
    "$$ y_i = \\overline{y}_i + z_i$$\n",
    "lub \n",
    "$$ y_i = \\overline{y}_i \\cdot z_i.$$\n",
    "Użytkownikowi zwracane są macierze $X, Y$:\n",
    "$$X = \\begin{bmatrix} x_1 & x_2 & \\cdots & x_N \\end{bmatrix},$$\n",
    "$$Y = \\begin{bmatrix} y_1 & y_2 & \\cdots & y_N \\end{bmatrix},$$\n",
    "natomiast macierz \n",
    "$$Z = \\begin{bmatrix} z_1 & z_2 & \\cdots & z_N \\end{bmatrix}$$\n",
    "nie jest zwracana. <br>\n",
    "Sprawdź z wykładu pojęcie *obiekt w klasie modeli*, aby lepiej zrozumieć zamysł stojący za generatorem.\n"
   ]
  },
  {
   "cell_type": "code",
   "execution_count": null,
   "metadata": {
    "id": "e8KPkqFNGYUZ"
   },
   "outputs": [],
   "source": [
    "def generator(rozklad_x, model, rozklad_z, typ_z):\n",
    "  \n",
    "  # rozklad_x musi w pełni określać macierz X,\n",
    "  # model musi mieć określone wartości parametrów, za wejście będzie wstawiana X\n",
    "  # rozkład_z musi w pełni określać macierz Z\n",
    "  # typ_z może być 'addytywne' lub 'multiplikatywne'\n",
    "  \n",
    "  X = rozklad_x()\n",
    "  Y_pred = model(X)\n",
    "  #print(X.shape)\n",
    "  if typ_z == 'addytywne':\n",
    "    Y = Y_pred + rozklad_z()\n",
    "  elif typ_z == 'multiplikatywne':\n",
    "    Y = Y_pred * rozklad_z()\n",
    "\n",
    "  return X, Y"
   ]
  },
  {
   "cell_type": "markdown",
   "metadata": {
    "id": "qsdR16F3HYnh"
   },
   "source": [
    "Jeżeli nie pamiętasz programowania funkcyjnego, nie przejmuj się kodem generatora. Wystarczy, że będziesz umieć go używać. Poniżej jest przykład, który demonstruje, jak elastyczne są jego parametry wywołania. Wypróbuj go zwłaszcza dla różnych rozkładów dla zmiennej $x$ i zakłóceń $z$. "
   ]
  },
  {
   "cell_type": "code",
   "execution_count": null,
   "metadata": {
    "colab": {
     "base_uri": "https://localhost:8080/",
     "height": 279
    },
    "id": "QxlTJyxH_vmX",
    "outputId": "5aaae2df-5383-4ea7-b3c7-1db1e6556f25"
   },
   "outputs": [
    {
     "data": {
      "image/png": "[encoded data removed]",
      "text/plain": [
       "<Figure size 432x288 with 1 Axes>"
      ]
     },
     "metadata": {
      "needs_background": "light"
     },
     "output_type": "display_data"
    }
   ],
   "source": [
    "def model(parametry, x):\n",
    "  a, b = parametry\n",
    "  return a*x + b\n",
    "\n",
    "N=100\n",
    "X, Y = generator(lambda: np.random.uniform(low=0,high=1, size=N), \n",
    "                 lambda x: model(parametry=[0.5,1], x=x),\n",
    "                 lambda: np.random.normal(loc=0,scale=0.05, size=N),\n",
    "                 typ_z='addytywne')\n",
    "\n",
    "plt.scatter(X,Y)\n",
    "plt.xlabel('x')\n",
    "plt.ylabel('y')\n",
    "plt.show()"
   ]
  },
  {
   "cell_type": "markdown",
   "metadata": {
    "id": "AdPfTKQTInUo"
   },
   "source": [
    "**Zadanie badawcze** <br>\n",
    "Udajemy, że nie wiemy, z jakimi wartościami parametrów $\\theta$ modelu został uruchomiony generator. Wiemy jedynie, że zakłócenia miały rozkład normalny o zerowej wartości oczekiwanej i znamy jego odchylenie standardowe (parametr ```scale``` funkcji ```normal```). <br>\n",
    "Należy zbadać jak zachowuje się błąd esymacji $\\theta - \\widehat{\\theta}$ w zależności od długości serii pomiarowej $N$ oraz od odchylenia standardowego zakłóceń. Wykonaj odpowiednie symulacje."
   ]
  },
  {
   "cell_type": "markdown",
   "metadata": {
    "id": "yVRGejydlYbm"
   },
   "source": [
    "### Metody z biblioteki [Scikit-learn](https://scikit-learn.org/stable/)"
   ]
  },
  {
   "cell_type": "markdown",
   "metadata": {
    "id": "Bq39cjsZtKgy"
   },
   "source": [
    "Metody uczenia maszynowego, czy to do klasyfikacji, regresji, grupowania, czy dopasowywania rozkładów do danych, dostępne w bibliotece Scikit-learn nazywane są - nie wiedzieć czemu - *estymatorami*. <br>\n",
    "Sposób korzytania z każego estymatora został ujednolicony. Oto przykład regresji liniowej."
   ]
  },
  {
   "cell_type": "markdown",
   "metadata": {
    "id": "IF4COmrTugcq"
   },
   "source": [
    "1. Importowanie klasy z implementacją *estymatora* "
   ]
  },
  {
   "cell_type": "code",
   "execution_count": null,
   "metadata": {
    "id": "unrPWt1sll55"
   },
   "outputs": [],
   "source": [
    "from sklearn.linear_model import LinearRegression"
   ]
  },
  {
   "cell_type": "markdown",
   "metadata": {
    "id": "_doi8LQgvP6p"
   },
   "source": [
    "2. Utworzenie instancji"
   ]
  },
  {
   "cell_type": "code",
   "execution_count": null,
   "metadata": {
    "id": "2osyzJ77vkfy"
   },
   "outputs": [],
   "source": [
    "model_lin = LinearRegression()"
   ]
  },
  {
   "cell_type": "markdown",
   "metadata": {
    "id": "fvviY4h0v0Tn"
   },
   "source": [
    "3. Dopasowanie *estymatora* do danych metodą ```fit```: patrz komentarz pod algorytmem (4)."
   ]
  },
  {
   "cell_type": "code",
   "execution_count": null,
   "metadata": {
    "colab": {
     "base_uri": "https://localhost:8080/"
    },
    "id": "XwnQXeeNwIib",
    "outputId": "a74807c2-7419-47e0-d801-72ddcd95d384"
   },
   "outputs": [
    {
     "data": {
      "text/plain": [
       "LinearRegression()"
      ]
     },
     "execution_count": 24,
     "metadata": {},
     "output_type": "execute_result"
    }
   ],
   "source": [
    "model_lin.fit(X.reshape(-1,1), Y)"
   ]
  },
  {
   "cell_type": "markdown",
   "metadata": {
    "id": "p65CUcgmygea"
   },
   "source": [
    "4. Obliczenia/predykcje z wykorzystaniem metody ```predict``` *estymatora*"
   ]
  },
  {
   "cell_type": "code",
   "execution_count": null,
   "metadata": {
    "colab": {
     "base_uri": "https://localhost:8080/",
     "height": 279
    },
    "id": "N5zkWAU7xCxr",
    "outputId": "d0e06064-25c9-4a39-bc6a-11533b009897"
   },
   "outputs": [
    {
     "data": {
      "image/png": "[encoded data removed]",
      "text/plain": [
       "<Figure size 432x288 with 1 Axes>"
      ]
     },
     "metadata": {
      "needs_background": "light"
     },
     "output_type": "display_data"
    }
   ],
   "source": [
    "X_test = np.linspace(start=X.min(), stop=X.max(), num=300)\n",
    "Y_pred = model_lin.predict(X_test.reshape(-1,1))\n",
    "\n",
    "plt.scatter(X,Y, alpha=0.7)\n",
    "plt.plot(X_test, Y_pred, color='tab:orange', linewidth=3)\n",
    "plt.xlabel('x')\n",
    "plt.ylabel('y')\n",
    "plt.show()"
   ]
  },
  {
   "cell_type": "markdown",
   "metadata": {
    "id": "mmeipMdSDnEh"
   },
   "source": [
    "Można też sprawdzić wartości parametrów otrzymanego modeli liniowego."
   ]
  },
  {
   "cell_type": "code",
   "execution_count": null,
   "metadata": {
    "colab": {
     "base_uri": "https://localhost:8080/"
    },
    "id": "bXloVGWlD1a_",
    "outputId": "e515abad-7d2d-41cd-fd4d-2753f0bef54c"
   },
   "outputs": [
    {
     "name": "stdout",
     "output_type": "stream",
     "text": [
      "Parametry modelu liniowego: a = [0.52156], b = 0.99045\n"
     ]
    }
   ],
   "source": [
    "print(f'Parametry modelu liniowego: a = {np.round(model_lin.coef_,5)}, b = {np.round(model_lin.intercept_,5)}')"
   ]
  },
  {
   "cell_type": "markdown",
   "metadata": {
    "id": "O1R1BQDF0Xbf"
   },
   "source": [
    "Oto inne ważne czynności, które wykonuje się w ramach dopasowywania modelu do danych."
   ]
  },
  {
   "cell_type": "markdown",
   "metadata": {
    "id": "kBRTer200rhs"
   },
   "source": [
    "Podział zbioru na część do trenowania i testowania"
   ]
  },
  {
   "cell_type": "code",
   "execution_count": null,
   "metadata": {
    "id": "FgeDrvSDy45s"
   },
   "outputs": [],
   "source": [
    "from sklearn.model_selection import train_test_split\n",
    "\n",
    "X_train, X_test, Y_train, Y_test = train_test_split(X, Y)"
   ]
  },
  {
   "cell_type": "markdown",
   "metadata": {
    "id": "XDPNP_lX05NR"
   },
   "source": [
    "Wskaźnik jakości modelu"
   ]
  },
  {
   "cell_type": "code",
   "execution_count": null,
   "metadata": {
    "colab": {
     "base_uri": "https://localhost:8080/"
    },
    "id": "r_btep5W02XV",
    "outputId": "16b4828b-99f6-4d41-8e25-6543b8c57f05"
   },
   "outputs": [
    {
     "data": {
      "text/plain": [
       "0.002641874893836097"
      ]
     },
     "execution_count": 28,
     "metadata": {},
     "output_type": "execute_result"
    }
   ],
   "source": [
    "from sklearn.metrics import mean_squared_error\n",
    "\n",
    "mean_squared_error(Y, model_lin.predict(X.reshape(-1,1)))"
   ]
  },
  {
   "cell_type": "markdown",
   "metadata": {
    "id": "M3TtxyfS2Enx"
   },
   "source": [
    "Oto **przykład** demonstrujący jednolitość obsługi *estymatorów* biblioteki Scikit-learn"
   ]
  },
  {
   "cell_type": "code",
   "execution_count": null,
   "metadata": {
    "colab": {
     "base_uri": "https://localhost:8080/",
     "height": 577
    },
    "id": "0K_CNSM31Cag",
    "outputId": "4f9b3cf8-cc46-4179-953e-502fbd86940e"
   },
   "outputs": [
    {
     "name": "stdout",
     "output_type": "stream",
     "text": [
      "Parametry modelu liniowego: [0.00796], 5.65191\n",
      "Błąd średniokwadratowy modelu liniowego: 0.186\n",
      "\n",
      "Parametry modelu GLM: [ 0.      0.0225 -0.    ], 4.94479\n",
      "Błąd średniokwadratowy modelu GLM: 0.071\n",
      "\n",
      "Błąd średniokwadratowy modelu SVR: 0.0838\n"
     ]
    },
    {
     "data": {
      "image/png": "[encoded data removed]",
      "text/plain": [
       "<Figure size 720x504 with 1 Axes>"
      ]
     },
     "metadata": {
      "needs_background": "light"
     },
     "output_type": "display_data"
    }
   ],
   "source": [
    "X = dane['GDP per capita'].values\n",
    "Y = dane['happiness'].values\n",
    "\n",
    "X_train, X_test, Y_train, Y_test = train_test_split(X, Y)\n",
    "\n",
    "\n",
    "# =========  Model liniowy =========\n",
    "from sklearn.linear_model import LinearRegression\n",
    "model_lin = LinearRegression()\n",
    "model_lin.fit(X_train.reshape(-1,1), \n",
    "              Y_train)\n",
    "print(f'Parametry modelu liniowego: {np.round(model_lin.coef_,5)}, {np.round(model_lin.intercept_,5)}')\n",
    "MSE_lin = mean_squared_error(Y_test, model_lin.predict(X_test.reshape(-1,1)))\n",
    "print(f'Błąd średniokwadratowy modelu liniowego: {MSE_lin:0.3}\\n')\n",
    "\n",
    "# ===== Uogólniony model liniowy (ang. Generalized Linear Model) =====\n",
    "from sklearn.preprocessing import PolynomialFeatures\n",
    "model_GLM = LinearRegression()\n",
    "gen_features = PolynomialFeatures(degree=2, include_bias=True, interaction_only=False)\n",
    "model_GLM.fit(gen_features.fit_transform(X_train.reshape(-1,1)), \n",
    "              Y_train)\n",
    "print(f'Parametry modelu GLM: {np.round(model_GLM.coef_,4)}, {np.round(model_GLM.intercept_,5)}')\n",
    "MSE_GLM = mean_squared_error(Y_test, model_GLM.predict(gen_features.fit_transform(X_test.reshape(-1,1))))\n",
    "print(f'Błąd średniokwadratowy modelu GLM: {MSE_GLM:0.3}\\n')\n",
    "\n",
    "#==== Maszyna wektorów wspierających (ang. Support Vector Machine) ====\n",
    "# SVR dla regresji, SVC dla kalsyfikacji\n",
    "from sklearn.svm import SVR\n",
    "model_svr = SVR(kernel='rbf', gamma='scale', C=1)\n",
    "model_svr.fit(X_train.reshape(-1,1), \n",
    "              Y_train)\n",
    "MSE_SVR = mean_squared_error(Y_test, model_svr.predict(X_test.reshape(-1,1)))\n",
    "print(f'Błąd średniokwadratowy modelu SVR: {MSE_SVR:0.3}')\n",
    "\n",
    "# Predykcje wszystkich modeli dla całego zakreso osi X\n",
    "os_x = np.linspace(start=X.min(), stop=X.max(), num=300)\n",
    "y_lin_pred = model_lin.predict(os_x.reshape(-1,1))\n",
    "y_GLM_pred = model_GLM.predict(gen_features.fit_transform(os_x.reshape(-1,1)))\n",
    "y_svr_pred = model_svr.predict(os_x.reshape(-1,1))\n",
    "\n",
    "# Wizualizacja\n",
    "plt.figure(figsize=(10,7))\n",
    "plt.scatter(X_train, Y_train, label='dane treningowe', alpha=0.7)\n",
    "plt.scatter(X_test, Y_test, edgecolor='black', facecolor='none', label='dane testujące')\n",
    "plt.plot(os_x, y_lin_pred, label='model liniowy', color='tab:orange')\n",
    "plt.plot(os_x, y_GLM_pred, label=f'model GLM', color='tab:red')\n",
    "plt.plot(os_x, y_svr_pred, label='model SVR', color='tab:green')\n",
    "plt.xlabel(dane.columns[0], fontsize=14)\n",
    "plt.ylabel(dane.columns[1], fontsize=14)\n",
    "plt.legend(fontsize=12, shadow=True, loc='lower right')\n",
    "plt.ylim([Y.min()-0.1, Y.max()+0.5])\n",
    "plt.show()"
   ]
  },
  {
   "cell_type": "markdown",
   "metadata": {
    "id": "foKbvjFLghLc"
   },
   "source": [
    "**Zastanów się** <br>\n",
    "Wykonaj wielokrotne dopasowania modeli do różnych podziałów zbioru danych na część do trenowania i do testowania. Wyciągnij wnioski. <br>\n",
    "Jak oceniasz adekwatność każdego z modeli, tzn. czy poprawnie opisuje tendencje obserwowane w danych? <br>\n",
    "Jaki kolejny model proponujesz rozważyć? <br>\n",
    "Jak można ocenić adekwatność modelu w przypadku danych wielowymiarowych?"
   ]
  },
  {
   "cell_type": "code",
   "execution_count": null,
   "metadata": {
    "id": "JWwSho_m2sLg"
   },
   "outputs": [],
   "source": []
  }
 ],
 "metadata": {
  "colab": {
   "collapsed_sections": [],
   "name": "MSiD_3_metoda najmniejszych kwadratów.ipynb",
   "provenance": []
  },
  "kernelspec": {
   "display_name": "Python 3 (ipykernel)",
   "language": "python",
   "name": "python3"
  },
  "language_info": {
   "codemirror_mode": {
    "name": "ipython",
    "version": 3
   },
   "file_extension": ".py",
   "mimetype": "text/x-python",
   "name": "python",
   "nbconvert_exporter": "python",
   "pygments_lexer": "ipython3",
   "version": "3.10.4"
  }
 },
 "nbformat": 4,
 "nbformat_minor": 1
}
